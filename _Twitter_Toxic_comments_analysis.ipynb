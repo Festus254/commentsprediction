{
  "nbformat": 4,
  "nbformat_minor": 0,
  "metadata": {
    "colab": {
      "name": "_Twitter Toxic comments analysis.ipynb",
      "provenance": [],
      "collapsed_sections": [
        "oKsqZhcBrvFv",
        "U7hhQ8okrvF5"
      ],
      "toc_visible": true,
      "machine_shape": "hm"
    },
    "kernelspec": {
      "display_name": "Python 3",
      "language": "python",
      "name": "python3"
    },
    "language_info": {
      "codemirror_mode": {
        "name": "ipython",
        "version": 3
      },
      "file_extension": ".py",
      "mimetype": "text/x-python",
      "name": "python",
      "nbconvert_exporter": "python",
      "pygments_lexer": "ipython3",
      "version": "3.6.10"
    }
  },
  "cells": [
    {
      "cell_type": "code",
      "metadata": {
        "id": "10DThxHDkvhT"
      },
      "source": [
        ""
      ],
      "execution_count": null,
      "outputs": []
    },
    {
      "cell_type": "markdown",
      "metadata": {
        "id": "oKsqZhcBrvFv"
      },
      "source": [
        "# Predicting whether a comment on Twitter is Toxic with NLP and Machine Learning\n",
        "\n",
        "By Victor Kiptoo\n"
      ]
    },
    {
      "cell_type": "markdown",
      "metadata": {
        "id": "U7hhQ8okrvF5"
      },
      "source": [
        "# 1. Project Background and Aim.\n",
        "Twitter is social network platform where people have interaction and discussion about several issues affecting the society. It is a great platform to share and get information about what is going on around the globe. A platform with global reach comes with the problem of people using toxic and obscene language with the intention of abusing people hence a good platform is destroyed by a few bad apples. This project is aimed at recognizing obscene and toxic tweets using NLP and machine learning techniques. "
      ]
    },
    {
      "cell_type": "markdown",
      "metadata": {
        "id": "NxO1lOu7rvGZ"
      },
      "source": [
        "# 2. Data Description \n",
        "I got data from kaggle.\n"
      ]
    },
    {
      "cell_type": "code",
      "metadata": {
        "colab": {
          "base_uri": "https://localhost:8080/"
        },
        "id": "F4uqf6FZLHst",
        "outputId": "1c02ba97-7f44-4da2-c6e4-f4c6e8b96b49"
      },
      "source": [
        "!pip install memory-profiler\n",
        "%load_ext memory_profiler\n",
        "%memit"
      ],
      "execution_count": 1,
      "outputs": [
        {
          "output_type": "stream",
          "text": [
            "Collecting memory-profiler\n",
            "  Downloading https://files.pythonhosted.org/packages/8f/fd/d92b3295657f8837e0177e7b48b32d6651436f0293af42b76d134c3bb489/memory_profiler-0.58.0.tar.gz\n",
            "Requirement already satisfied: psutil in /usr/local/lib/python3.6/dist-packages (from memory-profiler) (5.4.8)\n",
            "Building wheels for collected packages: memory-profiler\n",
            "  Building wheel for memory-profiler (setup.py) ... \u001b[?25l\u001b[?25hdone\n",
            "  Created wheel for memory-profiler: filename=memory_profiler-0.58.0-cp36-none-any.whl size=30181 sha256=174358666473dfc1698cc92d725257aee9aad18f6f8a91929f9471879e54f135\n",
            "  Stored in directory: /root/.cache/pip/wheels/02/e4/0b/aaab481fc5dd2a4ea59e78bc7231bb6aae7635ca7ee79f8ae5\n",
            "Successfully built memory-profiler\n",
            "Installing collected packages: memory-profiler\n",
            "Successfully installed memory-profiler-0.58.0\n",
            "peak memory: 106.79 MiB, increment: 0.05 MiB\n"
          ],
          "name": "stdout"
        }
      ]
    },
    {
      "cell_type": "code",
      "metadata": {
        "id": "yJB0c5-DrvGg"
      },
      "source": [
        "import pandas as pd #data manipulation and wrangling\n",
        "import numpy as np\n",
        "import seaborn as sns\n",
        "import matplotlib.pyplot as plt\n",
        "import nltk #natural processing toolkit\n",
        "import re\n",
        "import string #string manipulation\n"
      ],
      "execution_count": 2,
      "outputs": []
    },
    {
      "cell_type": "code",
      "metadata": {
        "id": "v0kMhEt1hulF",
        "colab": {
          "base_uri": "https://localhost:8080/"
        },
        "outputId": "7ae186ff-637d-4c68-d20b-2bf384e23ac3"
      },
      "source": [
        "from google.colab import drive\n",
        "drive.mount('/content/drive')\n"
      ],
      "execution_count": 3,
      "outputs": [
        {
          "output_type": "stream",
          "text": [
            "Mounted at /content/drive\n"
          ],
          "name": "stdout"
        }
      ]
    },
    {
      "cell_type": "code",
      "metadata": {
        "id": "jhQLO4qgrvHF",
        "colab": {
          "base_uri": "https://localhost:8080/",
          "height": 204
        },
        "outputId": "2d3ef9fa-85d6-4046-c391-31e1388299a9"
      },
      "source": [
        "dataset = pd.read_csv(\"/content/drive/My Drive/train.csv\")\n",
        "dataset.head()"
      ],
      "execution_count": 4,
      "outputs": [
        {
          "output_type": "execute_result",
          "data": {
            "text/html": [
              "<div>\n",
              "<style scoped>\n",
              "    .dataframe tbody tr th:only-of-type {\n",
              "        vertical-align: middle;\n",
              "    }\n",
              "\n",
              "    .dataframe tbody tr th {\n",
              "        vertical-align: top;\n",
              "    }\n",
              "\n",
              "    .dataframe thead th {\n",
              "        text-align: right;\n",
              "    }\n",
              "</style>\n",
              "<table border=\"1\" class=\"dataframe\">\n",
              "  <thead>\n",
              "    <tr style=\"text-align: right;\">\n",
              "      <th></th>\n",
              "      <th>id</th>\n",
              "      <th>comment_text</th>\n",
              "      <th>toxic</th>\n",
              "      <th>severe_toxic</th>\n",
              "      <th>obscene</th>\n",
              "      <th>threat</th>\n",
              "      <th>insult</th>\n",
              "      <th>identity_hate</th>\n",
              "    </tr>\n",
              "  </thead>\n",
              "  <tbody>\n",
              "    <tr>\n",
              "      <th>0</th>\n",
              "      <td>0000997932d777bf</td>\n",
              "      <td>Explanation\\nWhy the edits made under my usern...</td>\n",
              "      <td>0</td>\n",
              "      <td>0</td>\n",
              "      <td>0</td>\n",
              "      <td>0</td>\n",
              "      <td>0</td>\n",
              "      <td>0</td>\n",
              "    </tr>\n",
              "    <tr>\n",
              "      <th>1</th>\n",
              "      <td>000103f0d9cfb60f</td>\n",
              "      <td>D'aww! He matches this background colour I'm s...</td>\n",
              "      <td>0</td>\n",
              "      <td>0</td>\n",
              "      <td>0</td>\n",
              "      <td>0</td>\n",
              "      <td>0</td>\n",
              "      <td>0</td>\n",
              "    </tr>\n",
              "    <tr>\n",
              "      <th>2</th>\n",
              "      <td>000113f07ec002fd</td>\n",
              "      <td>Hey man, I'm really not trying to edit war. It...</td>\n",
              "      <td>0</td>\n",
              "      <td>0</td>\n",
              "      <td>0</td>\n",
              "      <td>0</td>\n",
              "      <td>0</td>\n",
              "      <td>0</td>\n",
              "    </tr>\n",
              "    <tr>\n",
              "      <th>3</th>\n",
              "      <td>0001b41b1c6bb37e</td>\n",
              "      <td>\"\\nMore\\nI can't make any real suggestions on ...</td>\n",
              "      <td>0</td>\n",
              "      <td>0</td>\n",
              "      <td>0</td>\n",
              "      <td>0</td>\n",
              "      <td>0</td>\n",
              "      <td>0</td>\n",
              "    </tr>\n",
              "    <tr>\n",
              "      <th>4</th>\n",
              "      <td>0001d958c54c6e35</td>\n",
              "      <td>You, sir, are my hero. Any chance you remember...</td>\n",
              "      <td>0</td>\n",
              "      <td>0</td>\n",
              "      <td>0</td>\n",
              "      <td>0</td>\n",
              "      <td>0</td>\n",
              "      <td>0</td>\n",
              "    </tr>\n",
              "  </tbody>\n",
              "</table>\n",
              "</div>"
            ],
            "text/plain": [
              "                 id  ... identity_hate\n",
              "0  0000997932d777bf  ...             0\n",
              "1  000103f0d9cfb60f  ...             0\n",
              "2  000113f07ec002fd  ...             0\n",
              "3  0001b41b1c6bb37e  ...             0\n",
              "4  0001d958c54c6e35  ...             0\n",
              "\n",
              "[5 rows x 8 columns]"
            ]
          },
          "metadata": {
            "tags": []
          },
          "execution_count": 4
        }
      ]
    },
    {
      "cell_type": "code",
      "metadata": {
        "id": "O5Jbqrm5rvIN",
        "colab": {
          "base_uri": "https://localhost:8080/"
        },
        "outputId": "58e65838-f537-4f2b-b991-e7e2ac76ade9"
      },
      "source": [
        "dataset.info() #there are no null values "
      ],
      "execution_count": 5,
      "outputs": [
        {
          "output_type": "stream",
          "text": [
            "<class 'pandas.core.frame.DataFrame'>\n",
            "RangeIndex: 159571 entries, 0 to 159570\n",
            "Data columns (total 8 columns):\n",
            " #   Column         Non-Null Count   Dtype \n",
            "---  ------         --------------   ----- \n",
            " 0   id             159571 non-null  object\n",
            " 1   comment_text   159571 non-null  object\n",
            " 2   toxic          159571 non-null  int64 \n",
            " 3   severe_toxic   159571 non-null  int64 \n",
            " 4   obscene        159571 non-null  int64 \n",
            " 5   threat         159571 non-null  int64 \n",
            " 6   insult         159571 non-null  int64 \n",
            " 7   identity_hate  159571 non-null  int64 \n",
            "dtypes: int64(6), object(2)\n",
            "memory usage: 9.7+ MB\n"
          ],
          "name": "stdout"
        }
      ]
    },
    {
      "cell_type": "code",
      "metadata": {
        "id": "9Jq_cRvFrvJY",
        "colab": {
          "base_uri": "https://localhost:8080/",
          "height": 235
        },
        "outputId": "fdab5ffc-5432-460f-ae55-4a417a1d015b"
      },
      "source": [
        "dataset.describe().T"
      ],
      "execution_count": 6,
      "outputs": [
        {
          "output_type": "execute_result",
          "data": {
            "text/html": [
              "<div>\n",
              "<style scoped>\n",
              "    .dataframe tbody tr th:only-of-type {\n",
              "        vertical-align: middle;\n",
              "    }\n",
              "\n",
              "    .dataframe tbody tr th {\n",
              "        vertical-align: top;\n",
              "    }\n",
              "\n",
              "    .dataframe thead th {\n",
              "        text-align: right;\n",
              "    }\n",
              "</style>\n",
              "<table border=\"1\" class=\"dataframe\">\n",
              "  <thead>\n",
              "    <tr style=\"text-align: right;\">\n",
              "      <th></th>\n",
              "      <th>count</th>\n",
              "      <th>mean</th>\n",
              "      <th>std</th>\n",
              "      <th>min</th>\n",
              "      <th>25%</th>\n",
              "      <th>50%</th>\n",
              "      <th>75%</th>\n",
              "      <th>max</th>\n",
              "    </tr>\n",
              "  </thead>\n",
              "  <tbody>\n",
              "    <tr>\n",
              "      <th>toxic</th>\n",
              "      <td>159571.0</td>\n",
              "      <td>0.095844</td>\n",
              "      <td>0.294379</td>\n",
              "      <td>0.0</td>\n",
              "      <td>0.0</td>\n",
              "      <td>0.0</td>\n",
              "      <td>0.0</td>\n",
              "      <td>1.0</td>\n",
              "    </tr>\n",
              "    <tr>\n",
              "      <th>severe_toxic</th>\n",
              "      <td>159571.0</td>\n",
              "      <td>0.009996</td>\n",
              "      <td>0.099477</td>\n",
              "      <td>0.0</td>\n",
              "      <td>0.0</td>\n",
              "      <td>0.0</td>\n",
              "      <td>0.0</td>\n",
              "      <td>1.0</td>\n",
              "    </tr>\n",
              "    <tr>\n",
              "      <th>obscene</th>\n",
              "      <td>159571.0</td>\n",
              "      <td>0.052948</td>\n",
              "      <td>0.223931</td>\n",
              "      <td>0.0</td>\n",
              "      <td>0.0</td>\n",
              "      <td>0.0</td>\n",
              "      <td>0.0</td>\n",
              "      <td>1.0</td>\n",
              "    </tr>\n",
              "    <tr>\n",
              "      <th>threat</th>\n",
              "      <td>159571.0</td>\n",
              "      <td>0.002996</td>\n",
              "      <td>0.054650</td>\n",
              "      <td>0.0</td>\n",
              "      <td>0.0</td>\n",
              "      <td>0.0</td>\n",
              "      <td>0.0</td>\n",
              "      <td>1.0</td>\n",
              "    </tr>\n",
              "    <tr>\n",
              "      <th>insult</th>\n",
              "      <td>159571.0</td>\n",
              "      <td>0.049364</td>\n",
              "      <td>0.216627</td>\n",
              "      <td>0.0</td>\n",
              "      <td>0.0</td>\n",
              "      <td>0.0</td>\n",
              "      <td>0.0</td>\n",
              "      <td>1.0</td>\n",
              "    </tr>\n",
              "    <tr>\n",
              "      <th>identity_hate</th>\n",
              "      <td>159571.0</td>\n",
              "      <td>0.008805</td>\n",
              "      <td>0.093420</td>\n",
              "      <td>0.0</td>\n",
              "      <td>0.0</td>\n",
              "      <td>0.0</td>\n",
              "      <td>0.0</td>\n",
              "      <td>1.0</td>\n",
              "    </tr>\n",
              "  </tbody>\n",
              "</table>\n",
              "</div>"
            ],
            "text/plain": [
              "                  count      mean       std  min  25%  50%  75%  max\n",
              "toxic          159571.0  0.095844  0.294379  0.0  0.0  0.0  0.0  1.0\n",
              "severe_toxic   159571.0  0.009996  0.099477  0.0  0.0  0.0  0.0  1.0\n",
              "obscene        159571.0  0.052948  0.223931  0.0  0.0  0.0  0.0  1.0\n",
              "threat         159571.0  0.002996  0.054650  0.0  0.0  0.0  0.0  1.0\n",
              "insult         159571.0  0.049364  0.216627  0.0  0.0  0.0  0.0  1.0\n",
              "identity_hate  159571.0  0.008805  0.093420  0.0  0.0  0.0  0.0  1.0"
            ]
          },
          "metadata": {
            "tags": []
          },
          "execution_count": 6
        }
      ]
    },
    {
      "cell_type": "markdown",
      "metadata": {
        "id": "UXbERLGjrvOZ"
      },
      "source": [
        "# Explanatory Data Analysis"
      ]
    },
    {
      "cell_type": "code",
      "metadata": {
        "id": "dh7n2_aXrvNv",
        "colab": {
          "base_uri": "https://localhost:8080/"
        },
        "outputId": "6c2b317c-153b-4b72-bc30-94b2072c2e55"
      },
      "source": [
        "dataset['toxic'].value_counts()"
      ],
      "execution_count": 7,
      "outputs": [
        {
          "output_type": "execute_result",
          "data": {
            "text/plain": [
              "0    144277\n",
              "1     15294\n",
              "Name: toxic, dtype: int64"
            ]
          },
          "metadata": {
            "tags": []
          },
          "execution_count": 7
        }
      ]
    },
    {
      "cell_type": "code",
      "metadata": {
        "id": "YYS9pOR4rvOd"
      },
      "source": [
        "\n",
        "df_toxic = dataset.drop(columns = ['id', 'comment_text'])\n",
        "count = []\n",
        "categories = list(df_toxic.columns.values)\n",
        "for i in categories:\n",
        "    count.append((i, df_toxic[i].sum()))\n",
        "df_stats = pd.DataFrame(count, columns = ['category', 'no_of_comments'])"
      ],
      "execution_count": 8,
      "outputs": []
    },
    {
      "cell_type": "code",
      "metadata": {
        "id": "3mg03NlurvOw",
        "colab": {
          "base_uri": "https://localhost:8080/",
          "height": 235
        },
        "outputId": "3ca2d882-7d4d-407b-c436-97d8dfc9341d"
      },
      "source": [
        "df_stats"
      ],
      "execution_count": 9,
      "outputs": [
        {
          "output_type": "execute_result",
          "data": {
            "text/html": [
              "<div>\n",
              "<style scoped>\n",
              "    .dataframe tbody tr th:only-of-type {\n",
              "        vertical-align: middle;\n",
              "    }\n",
              "\n",
              "    .dataframe tbody tr th {\n",
              "        vertical-align: top;\n",
              "    }\n",
              "\n",
              "    .dataframe thead th {\n",
              "        text-align: right;\n",
              "    }\n",
              "</style>\n",
              "<table border=\"1\" class=\"dataframe\">\n",
              "  <thead>\n",
              "    <tr style=\"text-align: right;\">\n",
              "      <th></th>\n",
              "      <th>category</th>\n",
              "      <th>no_of_comments</th>\n",
              "    </tr>\n",
              "  </thead>\n",
              "  <tbody>\n",
              "    <tr>\n",
              "      <th>0</th>\n",
              "      <td>toxic</td>\n",
              "      <td>15294</td>\n",
              "    </tr>\n",
              "    <tr>\n",
              "      <th>1</th>\n",
              "      <td>severe_toxic</td>\n",
              "      <td>1595</td>\n",
              "    </tr>\n",
              "    <tr>\n",
              "      <th>2</th>\n",
              "      <td>obscene</td>\n",
              "      <td>8449</td>\n",
              "    </tr>\n",
              "    <tr>\n",
              "      <th>3</th>\n",
              "      <td>threat</td>\n",
              "      <td>478</td>\n",
              "    </tr>\n",
              "    <tr>\n",
              "      <th>4</th>\n",
              "      <td>insult</td>\n",
              "      <td>7877</td>\n",
              "    </tr>\n",
              "    <tr>\n",
              "      <th>5</th>\n",
              "      <td>identity_hate</td>\n",
              "      <td>1405</td>\n",
              "    </tr>\n",
              "  </tbody>\n",
              "</table>\n",
              "</div>"
            ],
            "text/plain": [
              "        category  no_of_comments\n",
              "0          toxic           15294\n",
              "1   severe_toxic            1595\n",
              "2        obscene            8449\n",
              "3         threat             478\n",
              "4         insult            7877\n",
              "5  identity_hate            1405"
            ]
          },
          "metadata": {
            "tags": []
          },
          "execution_count": 9
        }
      ]
    },
    {
      "cell_type": "code",
      "metadata": {
        "id": "vErxZEFBrvPN",
        "colab": {
          "base_uri": "https://localhost:8080/",
          "height": 286
        },
        "outputId": "cf4992be-2bc2-47e0-e048-e7579f1168bc"
      },
      "source": [
        "\n",
        "#getting count of each label \n",
        "category = list(df_stats.category)\n",
        "sns.barplot(x = category, y = df_stats.no_of_comments, data=df_stats)"
      ],
      "execution_count": 10,
      "outputs": [
        {
          "output_type": "execute_result",
          "data": {
            "text/plain": [
              "<matplotlib.axes._subplots.AxesSubplot at 0x7f767440f080>"
            ]
          },
          "metadata": {
            "tags": []
          },
          "execution_count": 10
        },
        {
          "output_type": "display_data",
          "data": {
            "image/png": "[encoded data removed]",
            "text/plain": [
              "<Figure size 432x288 with 1 Axes>"
            ]
          },
          "metadata": {
            "tags": [],
            "needs_background": "light"
          }
        }
      ]
    },
    {
      "cell_type": "code",
      "metadata": {
        "id": "LV1JDBMarvPe",
        "scrolled": true,
        "colab": {
          "base_uri": "https://localhost:8080/",
          "height": 282
        },
        "outputId": "cddc19c1-5d06-4463-df1c-1a062236bbb2"
      },
      "source": [
        "#getting the count of count of text occuring in eac\n",
        "rowsums = dataset.iloc[:, 2:].sum(axis=1)\n",
        "#rowsums\n",
        "\n",
        "x = rowsums.value_counts()\n",
        "sns.barplot(x = x.index, y=x.values)"
      ],
      "execution_count": 11,
      "outputs": [
        {
          "output_type": "execute_result",
          "data": {
            "text/plain": [
              "<matplotlib.axes._subplots.AxesSubplot at 0x7f7674360668>"
            ]
          },
          "metadata": {
            "tags": []
          },
          "execution_count": 11
        },
        {
          "output_type": "display_data",
          "data": {
            "image/png": "[encoded data removed]",
            "text/plain": [
              "<Figure size 432x288 with 1 Axes>"
            ]
          },
          "metadata": {
            "tags": [],
            "needs_background": "light"
          }
        }
      ]
    },
    {
      "cell_type": "markdown",
      "metadata": {
        "id": "Eug-MqlGrvP3"
      },
      "source": [
        "# Data cleaning and preparation\n"
      ]
    },
    {
      "cell_type": "code",
      "metadata": {
        "id": "vyLzKq8drvP9",
        "colab": {
          "base_uri": "https://localhost:8080/"
        },
        "outputId": "e65bb227-adeb-4583-ab29-c235783f85c8"
      },
      "source": [
        "nltk.download()\n",
        "stopwords = nltk.corpus.stopwords.words('english')\n",
        "ps = nltk.PorterStemmer()\n",
        "wn = nltk.WordNetLemmatizer()\n",
        "#from nltk.tokenize import TweetTokenizer\n",
        "#from nltk import pos_tag\n"
      ],
      "execution_count": 12,
      "outputs": [
        {
          "output_type": "stream",
          "text": [
            "NLTK Downloader\n",
            "---------------------------------------------------------------------------\n",
            "    d) Download   l) List    u) Update   c) Config   h) Help   q) Quit\n",
            "---------------------------------------------------------------------------\n",
            "Downloader> d\n",
            "\n",
            "Download which package (l=list; x=cancel)?\n",
            "  Identifier> popular\n",
            "    Downloading collection 'popular'\n",
            "       | \n",
            "       | Downloading package cmudict to /root/nltk_data...\n",
            "       |   Unzipping corpora/cmudict.zip.\n",
            "       | Downloading package gazetteers to /root/nltk_data...\n",
            "       |   Unzipping corpora/gazetteers.zip.\n",
            "       | Downloading package genesis to /root/nltk_data...\n",
            "       |   Unzipping corpora/genesis.zip.\n",
            "       | Downloading package gutenberg to /root/nltk_data...\n",
            "       |   Unzipping corpora/gutenberg.zip.\n",
            "       | Downloading package inaugural to /root/nltk_data...\n",
            "       |   Unzipping corpora/inaugural.zip.\n",
            "       | Downloading package movie_reviews to /root/nltk_data...\n",
            "       |   Unzipping corpora/movie_reviews.zip.\n",
            "       | Downloading package names to /root/nltk_data...\n",
            "       |   Unzipping corpora/names.zip.\n",
            "       | Downloading package shakespeare to /root/nltk_data...\n",
            "       |   Unzipping corpora/shakespeare.zip.\n",
            "       | Downloading package stopwords to /root/nltk_data...\n",
            "       |   Unzipping corpora/stopwords.zip.\n",
            "       | Downloading package treebank to /root/nltk_data...\n",
            "       |   Unzipping corpora/treebank.zip.\n",
            "       | Downloading package twitter_samples to /root/nltk_data...\n",
            "       |   Unzipping corpora/twitter_samples.zip.\n",
            "       | Downloading package omw to /root/nltk_data...\n",
            "       |   Unzipping corpora/omw.zip.\n",
            "       | Downloading package wordnet to /root/nltk_data...\n",
            "       |   Unzipping corpora/wordnet.zip.\n",
            "       | Downloading package wordnet_ic to /root/nltk_data...\n",
            "       |   Unzipping corpora/wordnet_ic.zip.\n",
            "       | Downloading package words to /root/nltk_data...\n",
            "       |   Unzipping corpora/words.zip.\n",
            "       | Downloading package maxent_ne_chunker to /root/nltk_data...\n",
            "       |   Unzipping chunkers/maxent_ne_chunker.zip.\n",
            "       | Downloading package punkt to /root/nltk_data...\n",
            "       |   Unzipping tokenizers/punkt.zip.\n",
            "       | Downloading package snowball_data to /root/nltk_data...\n",
            "       | Downloading package averaged_perceptron_tagger to\n",
            "       |     /root/nltk_data...\n",
            "       |   Unzipping taggers/averaged_perceptron_tagger.zip.\n",
            "       | \n",
            "     Done downloading collection popular\n",
            "\n",
            "---------------------------------------------------------------------------\n",
            "    d) Download   l) List    u) Update   c) Config   h) Help   q) Quit\n",
            "---------------------------------------------------------------------------\n",
            "Downloader> q\n"
          ],
          "name": "stdout"
        }
      ]
    },
    {
      "cell_type": "code",
      "metadata": {
        "id": "p0yCwspMYr2c"
      },
      "source": [
        ""
      ],
      "execution_count": 12,
      "outputs": []
    },
    {
      "cell_type": "code",
      "metadata": {
        "id": "UwS71FhdrvQd"
      },
      "source": [
        "dataset[\"comment_text\"] = dataset[\"comment_text\"].apply(lambda x: x[:800])\n"
      ],
      "execution_count": 13,
      "outputs": []
    },
    {
      "cell_type": "code",
      "metadata": {
        "id": "3akHmPY9rvQP",
        "colab": {
          "base_uri": "https://localhost:8080/",
          "height": 204
        },
        "outputId": "6fe40968-62be-438a-b8ca-4b787b250a89"
      },
      "source": [
        "#TweetTokenizer\n",
        "#pos_tag\n",
        "#stopwords\n",
        "contractions = {\n",
        "\"ain't\": \"am not / are not\",\n",
        "\"aren't\": \"are not / am not\",\n",
        "\"can't\": \"cannot\",\n",
        "\"can't've\": \"cannot have\",\n",
        "\"'cause\": \"because\",\n",
        "\"could've\": \"could have\",\n",
        "\"couldn't\": \"could not\",\n",
        "\"couldn't've\": \"could not have\",\n",
        "\"didn't\": \"did not\",\n",
        "\"doesn't\": \"does not\",\n",
        "\"don't\": \"do not\",\n",
        "\"hadn't\": \"had not\",\n",
        "\"hadn't've\": \"had not have\",\n",
        "\"hasn't\": \"has not\",\n",
        "\"haven't\": \"have not\",\n",
        "\"he'd\": \"he had / he would\",\n",
        "\"he'd've\": \"he would have\",\n",
        "\"he'll\": \"he shall / he will\",\n",
        "\"he'll've\": \"he shall have / he will have\",\n",
        "\"he's\": \"he has / he is\",\n",
        "\"how'd\": \"how did\",\n",
        "\"how'd'y\": \"how do you\",\n",
        "\"how'll\": \"how will\",\n",
        "\"how's\": \"how has / how is\",\n",
        "\"i'd\": \"I had / I would\",\n",
        "\"i'd've\": \"I would have\",\n",
        "\"i'll\": \"I shall / I will\",\n",
        "\"i'll've\": \"I shall have / I will have\",\n",
        "\"i'm\": \"I am\",\n",
        "\"i've\": \"I have\",\n",
        "\"isn't\": \"is not\",\n",
        "\"it'd\": \"it had / it would\",\n",
        "\"it'd've\": \"it would have\",\n",
        "\"it'll\": \"it shall / it will\",\n",
        "\"it'll've\": \"it shall have / it will have\",\n",
        "\"it's\": \"it has / it is\",\n",
        "\"let's\": \"let us\",\n",
        "\"ma'am\": \"madam\",\n",
        "\"mayn't\": \"may not\",\n",
        "\"might've\": \"might have\",\n",
        "\"mightn't\": \"might not\",\n",
        "\"mightn't've\": \"might not have\",\n",
        "\"must've\": \"must have\",\n",
        "\"mustn't\": \"must not\",\n",
        "\"mustn't've\": \"must not have\",\n",
        "\"needn't\": \"need not\",\n",
        "\"needn't've\": \"need not have\",\n",
        "\"o'clock\": \"of the clock\",\n",
        "\"oughtn't\": \"ought not\",\n",
        "\"oughtn't've\": \"ought not have\",\n",
        "\"shan't\": \"shall not\",\n",
        "\"sha'n't\": \"shall not\",\n",
        "\"shan't've\": \"shall not have\",\n",
        "\"she'd\": \"she had / she would\",\n",
        "\"she'd've\": \"she would have\",\n",
        "\"she'll\": \"she shall / she will\",\n",
        "\"she'll've\": \"she shall have / she will have\",\n",
        "\"she's\": \"she has / she is\",\n",
        "\"should've\": \"should have\",\n",
        "\"shouldn't\": \"should not\",\n",
        "\"shouldn't've\": \"should not have\",\n",
        "\"so've\": \"so have\",\n",
        "\"so's\": \"so as / so is\",\n",
        "\"that'd\": \"that would / that had\",\n",
        "\"that'd've\": \"that would have\",\n",
        "\"that's\": \"that has / that is\",\n",
        "\"there'd\": \"there had / there would\",\n",
        "\"there'd've\": \"there would have\",\n",
        "\"there's\": \"there has / there is\",\n",
        "\"they'd\": \"they had / they would\",\n",
        "\"they'd've\": \"they would have\",\n",
        "\"they'll\": \"they shall / they will\",\n",
        "\"they'll've\": \"they shall have / they will have\",\n",
        "\"they're\": \"they are\",\n",
        "\"they've\": \"they have\",\n",
        "\"to've\": \"to have\",\n",
        "\"wasn't\": \"was not\",\n",
        "\"we'd\": \"we had / we would\",\n",
        "\"we'd've\": \"we would have\",\n",
        "\"we'll\": \"we will\",\n",
        "\"we'll've\": \"we will have\",\n",
        "\"we're\": \"we are\",\n",
        "\"we've\": \"we have\",\n",
        "\"weren't\": \"were not\",\n",
        "\"what'll\": \"what shall / what will\",\n",
        "\"what'll've\": \"what shall have / what will have\",\n",
        "\"what're\": \"what are\",\n",
        "\"what's\": \"what has / what is\",\n",
        "\"what've\": \"what have\",\n",
        "\"when's\": \"when has / when is\",\n",
        "\"when've\": \"when have\",\n",
        "\"where'd\": \"where did\",\n",
        "\"where's\": \"where has / where is\",\n",
        "\"where've\": \"where have\",\n",
        "\"who'll\": \"who shall / who will\",\n",
        "\"who'll've\": \"who shall have / who will have\",\n",
        "\"who's\": \"who has / who is\",\n",
        "\"who've\": \"who have\",\n",
        "\"why's\": \"why has / why is\",\n",
        "\"why've\": \"why have\",\n",
        "\"will've\": \"will have\",\n",
        "\"won't\": \"will not\",\n",
        "\"won't've\": \"will not have\",\n",
        "\"would've\": \"would have\",\n",
        "\"wouldn't\": \"would not\",\n",
        "\"wouldn't've\": \"would not have\",\n",
        "\"y'all\": \"you all\",\n",
        "\"y'all'd\": \"you all would\",\n",
        "\"y'all'd've\": \"you all would have\",\n",
        "\"y'all're\": \"you all are\",\n",
        "\"y'all've\": \"you all have\",\n",
        "\"you'd\": \"you had / you would\",\n",
        "\"you'd've\": \"you would have\",\n",
        "\"you'll\": \"you shall / you will\",\n",
        "\"you'll've\": \"you shall have / you will have\",\n",
        "\"you're\": \"you are\",\n",
        "\"you've\": \"you have\"\n",
        "}\n",
        "def change_apo(text):\n",
        "  for word in text.split():\n",
        "    if word.lower() in contractions:\n",
        "        text = text.replace(word, contractions[word.lower()])\n",
        "  return text\n",
        "\n",
        "dataset[\"comment_text\"] = dataset[\"comment_text\"].apply(lambda x: change_apo(x))\n",
        "dataset.head()"
      ],
      "execution_count": 14,
      "outputs": [
        {
          "output_type": "execute_result",
          "data": {
            "text/html": [
              "<div>\n",
              "<style scoped>\n",
              "    .dataframe tbody tr th:only-of-type {\n",
              "        vertical-align: middle;\n",
              "    }\n",
              "\n",
              "    .dataframe tbody tr th {\n",
              "        vertical-align: top;\n",
              "    }\n",
              "\n",
              "    .dataframe thead th {\n",
              "        text-align: right;\n",
              "    }\n",
              "</style>\n",
              "<table border=\"1\" class=\"dataframe\">\n",
              "  <thead>\n",
              "    <tr style=\"text-align: right;\">\n",
              "      <th></th>\n",
              "      <th>id</th>\n",
              "      <th>comment_text</th>\n",
              "      <th>toxic</th>\n",
              "      <th>severe_toxic</th>\n",
              "      <th>obscene</th>\n",
              "      <th>threat</th>\n",
              "      <th>insult</th>\n",
              "      <th>identity_hate</th>\n",
              "    </tr>\n",
              "  </thead>\n",
              "  <tbody>\n",
              "    <tr>\n",
              "      <th>0</th>\n",
              "      <td>0000997932d777bf</td>\n",
              "      <td>Explanation\\nWhy the edits made under my usern...</td>\n",
              "      <td>0</td>\n",
              "      <td>0</td>\n",
              "      <td>0</td>\n",
              "      <td>0</td>\n",
              "      <td>0</td>\n",
              "      <td>0</td>\n",
              "    </tr>\n",
              "    <tr>\n",
              "      <th>1</th>\n",
              "      <td>000103f0d9cfb60f</td>\n",
              "      <td>D'aww! He matches this background colour I am ...</td>\n",
              "      <td>0</td>\n",
              "      <td>0</td>\n",
              "      <td>0</td>\n",
              "      <td>0</td>\n",
              "      <td>0</td>\n",
              "      <td>0</td>\n",
              "    </tr>\n",
              "    <tr>\n",
              "      <th>2</th>\n",
              "      <td>000113f07ec002fd</td>\n",
              "      <td>Hey man, I am really not trying to edit war. i...</td>\n",
              "      <td>0</td>\n",
              "      <td>0</td>\n",
              "      <td>0</td>\n",
              "      <td>0</td>\n",
              "      <td>0</td>\n",
              "      <td>0</td>\n",
              "    </tr>\n",
              "    <tr>\n",
              "      <th>3</th>\n",
              "      <td>0001b41b1c6bb37e</td>\n",
              "      <td>\"\\nMore\\nI cannot make any real suggestions on...</td>\n",
              "      <td>0</td>\n",
              "      <td>0</td>\n",
              "      <td>0</td>\n",
              "      <td>0</td>\n",
              "      <td>0</td>\n",
              "      <td>0</td>\n",
              "    </tr>\n",
              "    <tr>\n",
              "      <th>4</th>\n",
              "      <td>0001d958c54c6e35</td>\n",
              "      <td>You, sir, are my hero. Any chance you remember...</td>\n",
              "      <td>0</td>\n",
              "      <td>0</td>\n",
              "      <td>0</td>\n",
              "      <td>0</td>\n",
              "      <td>0</td>\n",
              "      <td>0</td>\n",
              "    </tr>\n",
              "  </tbody>\n",
              "</table>\n",
              "</div>"
            ],
            "text/plain": [
              "                 id  ... identity_hate\n",
              "0  0000997932d777bf  ...             0\n",
              "1  000103f0d9cfb60f  ...             0\n",
              "2  000113f07ec002fd  ...             0\n",
              "3  0001b41b1c6bb37e  ...             0\n",
              "4  0001d958c54c6e35  ...             0\n",
              "\n",
              "[5 rows x 8 columns]"
            ]
          },
          "metadata": {
            "tags": []
          },
          "execution_count": 14
        }
      ]
    },
    {
      "cell_type": "code",
      "metadata": {
        "id": "l0cDp_SvrvQq"
      },
      "source": [
        "# function to remove punctuation, tokenize, remove stopwords and stem\n",
        "def clean_text(text):\n",
        "    \n",
        "   \n",
        "    text = ''.join([i for i in text if not i.isdigit()]) #remove integer values\n",
        "    text = \"\".join([word.lower() for word in text if word not in string.punctuation])#make lowercase and remove punctuation\n",
        "    text = ' '.join( [word for word in text.split() if len(word)>2] )#remove words less than 2 letters\n",
        "     \n",
        "    tokens = re.split('\\W+', text) \n",
        "    #words = [wn.lemmatize(word, 'v') for word in tokens]\n",
        "    text = [ps.stem(word) for word in tokens if word not in stopwords] \n",
        "    text = [wn.lemmatize(word) for word in text] \n",
        "    \n",
        "    text = \" \".join(text)\n",
        "    return text"
      ],
      "execution_count": 15,
      "outputs": []
    },
    {
      "cell_type": "code",
      "metadata": {
        "colab": {
          "base_uri": "https://localhost:8080/",
          "height": 35
        },
        "id": "yYWAubeS2zHY",
        "outputId": "cac6107b-23ab-4bc4-eb5a-07a3803da01a"
      },
      "source": [
        "clean_text('I an the 10th most 4hbsbsa buiavia')"
      ],
      "execution_count": 16,
      "outputs": [
        {
          "output_type": "execute_result",
          "data": {
            "application/vnd.google.colaboratory.intrinsic+json": {
              "type": "string"
            },
            "text/plain": [
              "'hbsbsa buiavia'"
            ]
          },
          "metadata": {
            "tags": []
          },
          "execution_count": 16
        }
      ]
    },
    {
      "cell_type": "code",
      "metadata": {
        "id": "BWbPU4awrvQ2",
        "colab": {
          "base_uri": "https://localhost:8080/"
        },
        "outputId": "c932d26d-89f8-4d7d-af39-11d6eb9fe094"
      },
      "source": [
        "\n",
        "dataset_test = dataset[0:50].copy()\n",
        "dataset_test[\"clean_comment\"] = dataset_test[\"comment_text\"].apply(lambda x: clean_text(x))\n",
        "print(dataset_test.head())"
      ],
      "execution_count": null,
      "outputs": [
        {
          "output_type": "stream",
          "text": [
            "                 id  ...                                      clean_comment\n",
            "0  0000997932d777bf  ...  explan edit made usernam hardcor metallica fan...\n",
            "1  000103f0d9cfb60f  ...  daww match background colour seemingli stuck t...\n",
            "2  000113f07ec002fd  ...  hey man realli tri edit war guy constantli rem...\n",
            "3  0001b41b1c6bb37e  ...  cannot make real suggest improv wonder section...\n",
            "4  0001d958c54c6e35  ...                         sir hero chanc rememb page\n",
            "\n",
            "[5 rows x 9 columns]\n"
          ],
          "name": "stdout"
        }
      ]
    },
    {
      "cell_type": "code",
      "metadata": {
        "id": "mo3__YcgrvRH"
      },
      "source": [
        "\n"
      ],
      "execution_count": null,
      "outputs": []
    },
    {
      "cell_type": "code",
      "metadata": {
        "id": "B9eqEhoJrvRY",
        "colab": {
          "base_uri": "https://localhost:8080/",
          "height": 289
        },
        "outputId": "190cc6a3-35b2-4e3e-807d-38921a520640"
      },
      "source": [
        "\n",
        "\n",
        "dataset[\"clean_comment\"] = dataset[\"comment_text\"].apply(lambda x: clean_text(x))\n",
        "dataset.head(5)"
      ],
      "execution_count": 17,
      "outputs": [
        {
          "output_type": "execute_result",
          "data": {
            "text/html": [
              "<div>\n",
              "<style scoped>\n",
              "    .dataframe tbody tr th:only-of-type {\n",
              "        vertical-align: middle;\n",
              "    }\n",
              "\n",
              "    .dataframe tbody tr th {\n",
              "        vertical-align: top;\n",
              "    }\n",
              "\n",
              "    .dataframe thead th {\n",
              "        text-align: right;\n",
              "    }\n",
              "</style>\n",
              "<table border=\"1\" class=\"dataframe\">\n",
              "  <thead>\n",
              "    <tr style=\"text-align: right;\">\n",
              "      <th></th>\n",
              "      <th>id</th>\n",
              "      <th>comment_text</th>\n",
              "      <th>toxic</th>\n",
              "      <th>severe_toxic</th>\n",
              "      <th>obscene</th>\n",
              "      <th>threat</th>\n",
              "      <th>insult</th>\n",
              "      <th>identity_hate</th>\n",
              "      <th>clean_comment</th>\n",
              "    </tr>\n",
              "  </thead>\n",
              "  <tbody>\n",
              "    <tr>\n",
              "      <th>0</th>\n",
              "      <td>0000997932d777bf</td>\n",
              "      <td>Explanation\\nWhy the edits made under my usern...</td>\n",
              "      <td>0</td>\n",
              "      <td>0</td>\n",
              "      <td>0</td>\n",
              "      <td>0</td>\n",
              "      <td>0</td>\n",
              "      <td>0</td>\n",
              "      <td>explan edit made usernam hardcor metallica fan...</td>\n",
              "    </tr>\n",
              "    <tr>\n",
              "      <th>1</th>\n",
              "      <td>000103f0d9cfb60f</td>\n",
              "      <td>D'aww! He matches this background colour I am ...</td>\n",
              "      <td>0</td>\n",
              "      <td>0</td>\n",
              "      <td>0</td>\n",
              "      <td>0</td>\n",
              "      <td>0</td>\n",
              "      <td>0</td>\n",
              "      <td>daww match background colour seemingli stuck t...</td>\n",
              "    </tr>\n",
              "    <tr>\n",
              "      <th>2</th>\n",
              "      <td>000113f07ec002fd</td>\n",
              "      <td>Hey man, I am really not trying to edit war. i...</td>\n",
              "      <td>0</td>\n",
              "      <td>0</td>\n",
              "      <td>0</td>\n",
              "      <td>0</td>\n",
              "      <td>0</td>\n",
              "      <td>0</td>\n",
              "      <td>hey man realli tri edit war guy constantli rem...</td>\n",
              "    </tr>\n",
              "    <tr>\n",
              "      <th>3</th>\n",
              "      <td>0001b41b1c6bb37e</td>\n",
              "      <td>\"\\nMore\\nI cannot make any real suggestions on...</td>\n",
              "      <td>0</td>\n",
              "      <td>0</td>\n",
              "      <td>0</td>\n",
              "      <td>0</td>\n",
              "      <td>0</td>\n",
              "      <td>0</td>\n",
              "      <td>cannot make real suggest improv wonder section...</td>\n",
              "    </tr>\n",
              "    <tr>\n",
              "      <th>4</th>\n",
              "      <td>0001d958c54c6e35</td>\n",
              "      <td>You, sir, are my hero. Any chance you remember...</td>\n",
              "      <td>0</td>\n",
              "      <td>0</td>\n",
              "      <td>0</td>\n",
              "      <td>0</td>\n",
              "      <td>0</td>\n",
              "      <td>0</td>\n",
              "      <td>sir hero chanc rememb page</td>\n",
              "    </tr>\n",
              "  </tbody>\n",
              "</table>\n",
              "</div>"
            ],
            "text/plain": [
              "                 id  ...                                      clean_comment\n",
              "0  0000997932d777bf  ...  explan edit made usernam hardcor metallica fan...\n",
              "1  000103f0d9cfb60f  ...  daww match background colour seemingli stuck t...\n",
              "2  000113f07ec002fd  ...  hey man realli tri edit war guy constantli rem...\n",
              "3  0001b41b1c6bb37e  ...  cannot make real suggest improv wonder section...\n",
              "4  0001d958c54c6e35  ...                         sir hero chanc rememb page\n",
              "\n",
              "[5 rows x 9 columns]"
            ]
          },
          "metadata": {
            "tags": []
          },
          "execution_count": 17
        }
      ]
    },
    {
      "cell_type": "markdown",
      "metadata": {
        "id": "qCw_KNiE4JKh"
      },
      "source": [
        ""
      ]
    },
    {
      "cell_type": "code",
      "metadata": {
        "id": "mwJ_Ggh22Dg4"
      },
      "source": [
        ""
      ],
      "execution_count": null,
      "outputs": []
    },
    {
      "cell_type": "markdown",
      "metadata": {
        "id": "N5ecX8aprvSC"
      },
      "source": [
        "## As perviously stated, a text is considered a series of words. To run an algorithm we have to change text files to numerical categories. Each unique word in our dictionary will correspond to a feature (descriptive feature). I used TF-IDF(Term Frequency times inverse document frequency.) solves this. "
      ]
    },
    {
      "cell_type": "code",
      "metadata": {
        "id": "TYE0lOCWrvSF"
      },
      "source": [
        "import pickle"
      ],
      "execution_count": 103,
      "outputs": []
    },
    {
      "cell_type": "code",
      "metadata": {
        "id": "R-h1J_dKrvSV",
        "colab": {
          "base_uri": "https://localhost:8080/"
        },
        "outputId": "855691c9-e7d9-48de-cb12-a22df47d63cc"
      },
      "source": [
        "# tfidt Vectorizer\n",
        "from sklearn.feature_extraction.text import TfidfVectorizer #\n",
        "tfidf_vect = TfidfVectorizer(stop_words = stopwords, min_df=0.0009,strip_accents='unicode', token_pattern=u'(?ui)\\\\b\\\\w*[a-z]+\\\\w*\\\\b', sublinear_tf=True)\n",
        "X_train_tfidf = tfidf_vect.fit_transform(dataset.clean_comment.dropna())\n",
        "X_train_tfidf.shape"
      ],
      "execution_count": 104,
      "outputs": [
        {
          "output_type": "execute_result",
          "data": {
            "text/plain": [
              "(159571, 2519)"
            ]
          },
          "metadata": {
            "tags": []
          },
          "execution_count": 104
        }
      ]
    },
    {
      "cell_type": "code",
      "metadata": {
        "id": "yG3kFf22rvSn",
        "colab": {
          "base_uri": "https://localhost:8080/"
        },
        "outputId": "21fc3f9e-9904-4285-e2a0-134f9426c96b"
      },
      "source": [
        "print(tfidf_vect.get_feature_names())\n",
        "features = tfidf_vect.get_feature_names()"
      ],
      "execution_count": 105,
      "outputs": [
        {
          "output_type": "stream",
          "text": [
            "['abil', 'abl', 'absolut', 'absurd', 'abus', 'academ', 'academi', 'accept', 'access', 'accid', 'accident', 'accomplish', 'accord', 'accordingli', 'account', 'accur', 'accuraci', 'accus', 'achiev', 'acknowledg', 'across', 'act', 'action', 'activ', 'activist', 'actor', 'actual', 'ad', 'adam', 'add', 'addit', 'address', 'adequ', 'adher', 'adjust', 'admin', 'administr', 'adminship', 'admir', 'admit', 'adopt', 'adult', 'advanc', 'advantag', 'advertis', 'advic', 'advis', 'advoc', 'afd', 'affair', 'affect', 'affili', 'afraid', 'africa', 'african', 'age', 'agenc', 'agenda', 'agent', 'aggress', 'ago', 'agre', 'agreement', 'ahead', 'aid', 'aim', 'air', 'aircraft', 'aka', 'albanian', 'album', 'alert', 'alex', 'aliv', 'alleg', 'alli', 'allow', 'almost', 'alon', 'along', 'alot', 'alphabet', 'alreadi', 'alright', 'also', 'alter', 'altern', 'although', 'altogeth', 'alway', 'amaz', 'ambigu', 'amend', 'america', 'american', 'among', 'amongst', 'amount', 'amus', 'analog', 'analysi', 'ancient', 'andor', 'andrew', 'angel', 'angri', 'ani', 'anim', 'announc', 'annoy', 'anon', 'anonym', 'anoth', 'answer', 'antisemit', 'anybodi', 'anymor', 'anyon', 'anyth', 'anyway', 'anywher', 'apart', 'apolog', 'apologis', 'appar', 'appeal', 'appear', 'appli', 'applic', 'appreci', 'approach', 'appropri', 'approv', 'apr', 'april', 'arab', 'arbcom', 'arbitr', 'archiv', 'area', 'argu', 'argument', 'arm', 'armenian', 'armi', 'around', 'arrest', 'arriv', 'arrog', 'art', 'articl', 'artist', 'asia', 'asian', 'asid', 'ask', 'aspect', 'ass', 'assert', 'asshol', 'assign', 'assist', 'associ', 'assum', 'assumpt', 'assur', 'atheist', 'attach', 'attack', 'attempt', 'attend', 'attent', 'attitud', 'attract', 'attribut', 'audio', 'august', 'australia', 'australian', 'author', 'automat', 'avail', 'averag', 'avoid', 'aw', 'awar', 'award', 'away', 'awesom', 'babi', 'back', 'background', 'bad', 'badli', 'bag', 'balanc', 'ball', 'ban', 'band', 'bank', 'banner', 'bar', 'bare', 'barnstar', 'base', 'basi', 'basic', 'bastard', 'battl', 'bbc', 'bear', 'beat', 'beauti', 'becam', 'becom', 'beg', 'began', 'begin', 'behalf', 'behav', 'behavior', 'behaviour', 'behind', 'belief', 'believ', 'belong', 'ben', 'benefit', 'besid', 'best', 'bet', 'better', 'beyond', 'bia', 'bias', 'bibl', 'big', 'bigger', 'biggest', 'bigot', 'bill', 'bio', 'biograph', 'biographi', 'biolog', 'birth', 'bit', 'bitch', 'bizarr', 'black', 'blame', 'blank', 'blatant', 'blatantli', 'blind', 'block', 'blog', 'blood', 'bloodi', 'blow', 'blp', 'blue', 'board', 'bob', 'bodi', 'bold', 'bomb', 'book', 'border', 'bore', 'born', 'borrow', 'bot', 'bother', 'bottom', 'box', 'boy', 'brain', 'branch', 'brand', 'breach', 'break', 'bridg', 'brief', 'briefli', 'bring', 'britain', 'british', 'broad', 'broadcast', 'broke', 'broken', 'brother', 'brought', 'brown', 'btw', 'buddi', 'bug', 'build', 'built', 'bulli', 'bullshit', 'bunch', 'burn', 'bush', 'busi', 'butt', 'button', 'buy', 'bye', 'calcul', 'california', 'call', 'calm', 'came', 'camp', 'campaign', 'canada', 'canadian', 'candid', 'cannot', 'cant', 'capabl', 'capac', 'capit', 'caption', 'car', 'card', 'care', 'career', 'carri', 'case', 'cast', 'cat', 'catch', 'categor', 'categori', 'cathol', 'caught', 'caus', 'ceas', 'celebr', 'cell', 'cellpad', 'censor', 'censorship', 'censu', 'center', 'centr', 'central', 'centuri', 'certain', 'certainli', 'challeng', 'champion', 'chanc', 'chang', 'channel', 'chapter', 'charact', 'character', 'charg', 'charl', 'chart', 'chat', 'check', 'checkus', 'cheer', 'chief', 'child', 'childish', 'china', 'chine', 'choic', 'choos', 'chose', 'chosen', 'chri', 'christ', 'christian', 'christma', 'chronolog', 'church', 'circl', 'circumst', 'citat', 'cite', 'citi', 'citizen', 'civil', 'claim', 'clarif', 'clarifi', 'class', 'classic', 'classifi', 'clean', 'cleanup', 'clear', 'clearer', 'clearli', 'click', 'climat', 'close', 'closer', 'club', 'clue', 'cock', 'code', 'coi', 'coincid', 'cold', 'collabor', 'collect', 'colleg', 'color', 'colour', 'column', 'combin', 'come', 'comfort', 'comic', 'command', 'comment', 'commentari', 'commerci', 'commit', 'committe', 'common', 'commonli', 'commun', 'communist', 'compani', 'compar', 'comparison', 'compet', 'competit', 'compil', 'complain', 'complaint', 'complet', 'complex', 'compli', 'complic', 'compos', 'comprehens', 'compromis', 'comput', 'concentr', 'concept', 'concern', 'conclud', 'conclus', 'condit', 'conduct', 'confer', 'confid', 'confirm', 'conflict', 'conform', 'confus', 'congratul', 'connect', 'consensu', 'consequ', 'conserv', 'consid', 'consider', 'consist', 'conspiraci', 'constant', 'constantli', 'constitut', 'construct', 'consult', 'contact', 'contain', 'contemporari', 'content', 'contenti', 'contest', 'context', 'continu', 'contract', 'contradict', 'contrari', 'contrast', 'contrib', 'contribut', 'contributor', 'control', 'controversi', 'conveni', 'convent', 'convers', 'convert', 'convey', 'convict', 'convinc', 'cool', 'cooper', 'coordin', 'copi', 'copyedit', 'copyright', 'copyvio', 'core', 'corpor', 'correct', 'correctli', 'correspond', 'corrupt', 'cost', 'could', 'council', 'count', 'counter', 'counti', 'countri', 'coupl', 'cours', 'court', 'courtesi', 'cover', 'coverag', 'crap', 'crash', 'crazi', 'creat', 'creation', 'creativ', 'creator', 'credibl', 'credit', 'cri', 'crime', 'crimin', 'criterion', 'critic', 'cross', 'csd', 'cult', 'cultur', 'cunt', 'cup', 'curiou', 'current', 'custom', 'cut', 'dab', 'daili', 'damag', 'damn', 'dan', 'danc', 'danger', 'daniel', 'dare', 'dark', 'data', 'databas', 'date', 'daughter', 'david', 'day', 'dead', 'deal', 'dealt', 'dear', 'death', 'debat', 'dec', 'decad', 'decemb', 'decent', 'decid', 'decis', 'declar', 'declin', 'dedic', 'deem', 'deep', 'defeat', 'defend', 'defens', 'defin', 'definit', 'degre', 'delay', 'delet', 'deliber', 'deliv', 'demand', 'democraci', 'democrat', 'demonstr', 'deni', 'denial', 'depart', 'depend', 'depict', 'deriv', 'descend', 'describ', 'descript', 'deserv', 'design', 'desir', 'desk', 'despit', 'destroy', 'destruct', 'detail', 'determin', 'develop', 'devic', 'devot', 'dick', 'dictat', 'dictionari', 'didnt', 'die', 'diff', 'differ', 'difficult', 'difficulti', 'dig', 'digit', 'direct', 'directli', 'director', 'directori', 'dirti', 'disabl', 'disagr', 'disagre', 'disambigu', 'disappear', 'disappoint', 'discourag', 'discov', 'discredit', 'discus', 'diseas', 'disgust', 'dislik', 'dismiss', 'display', 'disput', 'disregard', 'disrupt', 'distanc', 'distinct', 'distinguish', 'distort', 'distribut', 'district', 'disturb', 'divid', 'divis', 'doc', 'doctor', 'document', 'doesnt', 'dog', 'dollar', 'domain', 'domin', 'donat', 'done', 'dont', 'door', 'doubl', 'doubt', 'download', 'dozen', 'draft', 'drama', 'draw', 'dream', 'drink', 'drive', 'drop', 'drug', 'dubiou', 'dude', 'due', 'dumb', 'duplic', 'dutch', 'duti', 'dvd', 'dyk', 'dynam', 'earli', 'earlier', 'earn', 'earth', 'easi', 'easier', 'easili', 'east', 'eastern', 'eat', 'econom', 'economi', 'edit', 'editor', 'editori', 'editwar', 'educ', 'edward', 'effect', 'effort', 'either', 'el', 'elabor', 'elect', 'electron', 'element', 'elimin', 'elsewher', 'email', 'emerg', 'emot', 'emphasi', 'empir', 'employ', 'employe', 'empti', 'enabl', 'encount', 'encourag', 'encyclopaedia', 'encycloped', 'encyclopedia', 'end', 'endors', 'enemi', 'energi', 'enforc', 'engag', 'engin', 'england', 'english', 'enjoy', 'enough', 'ensur', 'enter', 'entertain', 'entir', 'entiti', 'entitl', 'entri', 'environ', 'episod', 'equal', 'equat', 'equival', 'era', 'erron', 'error', 'especi', 'essay', 'essenti', 'establish', 'estim', 'etc', 'ethic', 'ethnic', 'europ', 'european', 'evalu', 'even', 'event', 'eventu', 'ever', 'everi', 'everybodi', 'everyon', 'everyth', 'everywher', 'evid', 'evil', 'evolut', 'exact', 'exactli', 'examin', 'exampl', 'excel', 'except', 'excess', 'exchang', 'exclud', 'exclus', 'excus', 'execut', 'exercis', 'exist', 'expand', 'expans', 'expect', 'experi', 'experienc', 'expert', 'expertis', 'expir', 'explain', 'explan', 'explicitli', 'explor', 'expo', 'express', 'extend', 'extens', 'extent', 'extern', 'extra', 'extrem', 'eye', 'fac', 'face', 'facebook', 'facilit', 'fact', 'factor', 'factual', 'fag', 'faggot', 'fail', 'failur', 'fair', 'fairli', 'faith', 'fake', 'fall', 'fals', 'famili', 'familiar', 'famou', 'fan', 'fantasi', 'far', 'fascist', 'fashion', 'fast', 'fat', 'father', 'fault', 'favor', 'favorit', 'favour', 'fear', 'featur', 'feb', 'februari', 'feder', 'feedback', 'feel', 'fellow', 'felt', 'femal', 'fiction', 'field', 'fight', 'fighter', 'figur', 'file', 'fill', 'film', 'final', 'financi', 'find', 'fine', 'finger', 'finish', 'fire', 'firm', 'first', 'firstli', 'fish', 'fit', 'five', 'fix', 'flag', 'flaw', 'fli', 'flight', 'flow', 'focu', 'focus', 'folk', 'follow', 'food', 'fool', 'foot', 'footbal', 'footnot', 'forc', 'foreign', 'forev', 'forget', 'forgiv', 'forgot', 'forgotten', 'form', 'formal', 'format', 'former', 'forth', 'forum', 'forward', 'fought', 'found', 'foundat', 'founder', 'four', 'fourth', 'fox', 'frame', 'franc', 'frank', 'frankli', 'fraud', 'freak', 'free', 'freedom', 'freeli', 'french', 'frequent', 'fresh', 'friend', 'friendli', 'fring', 'front', 'frustrat', 'fuck', 'fucker', 'fuckin', 'full', 'fulli', 'fun', 'function', 'fund', 'fundament', 'funni', 'furthermor', 'futur', 'fyi', 'ga', 'gain', 'galleri', 'game', 'gang', 'garbag', 'gather', 'gave', 'gay', 'gender', 'gener', 'genet', 'genocid', 'genr', 'genuin', 'geograph', 'georg', 'german', 'germani', 'get', 'gfdl', 'girl', 'give', 'given', 'glad', 'global', 'go', 'goal', 'god', 'goe', 'gold', 'gone', 'gonna', 'good', 'googl', 'got', 'gotten', 'govern', 'grade', 'graduat', 'grammar', 'grand', 'grant', 'graphic', 'grate', 'great', 'greater', 'greatest', 'greatli', 'greec', 'greek', 'green', 'greet', 'ground', 'group', 'grow', 'guess', 'guid', 'guidanc', 'guidelin', 'guilti', 'gun', 'guy', 'habit', 'hack', 'haha', 'hair', 'half', 'hall', 'hand', 'handl', 'hang', 'happen', 'happi', 'harass', 'hard', 'hardli', 'harm', 'harrass', 'harri', 'hat', 'hate', 'head', 'header', 'health', 'hear', 'heard', 'heart', 'heat', 'heavi', 'heavili', 'hebrew', 'heck', 'height', 'held', 'hell', 'hello', 'help', 'helpm', 'henc', 'heritag', 'hero', 'hesh', 'hesit', 'hey', 'hidden', 'hide', 'high', 'higher', 'highest', 'highli', 'highlight', 'hill', 'hindu', 'hint', 'histor', 'histori', 'historian', 'hit', 'hitler', 'hmm', 'hoax', 'hold', 'holder', 'hole', 'holi', 'holiday', 'holocaust', 'home', 'homosexu', 'honest', 'honestli', 'honor', 'hope', 'horribl', 'hors', 'host', 'hostil', 'hot', 'hour', 'hous', 'howev', 'huge', 'huh', 'human', 'humor', 'hundr', 'hunt', 'hurt', 'hypocrit', 'ice', 'idea', 'ideal', 'ident', 'identifi', 'ideolog', 'idiot', 'ignor', 'ill', 'illeg', 'illustr', 'imag', 'imagin', 'immedi', 'immigr', 'imo', 'impact', 'implement', 'impli', 'implic', 'import', 'importantli', 'impos', 'imposs', 'impress', 'improv', 'inaccur', 'inappropri', 'incid', 'incident', 'incivil', 'includ', 'inclus', 'incomplet', 'inconsist', 'incorpor', 'incorrect', 'incorrectli', 'increas', 'incred', 'inde', 'indefinit', 'independ', 'index', 'india', 'indian', 'indic', 'individu', 'industri', 'influenc', 'info', 'infobox', 'inform', 'infring', 'initi', 'inlin', 'innoc', 'input', 'insan', 'insert', 'insid', 'insist', 'inspir', 'instanc', 'instead', 'institut', 'instruct', 'insult', 'integr', 'intellectu', 'intellig', 'intend', 'intent', 'interact', 'interest', 'intern', 'internet', 'interpret', 'interview', 'intro', 'introduc', 'introduct', 'invalid', 'invent', 'investig', 'invit', 'involv', 'ip', 'iran', 'iranian', 'iraq', 'irc', 'ireland', 'irish', 'iron', 'irrelev', 'isbn', 'islam', 'island', 'isnt', 'isra', 'israel', 'issu', 'itali', 'italian', 'item', 'ive', 'jack', 'jackson', 'jame', 'jan', 'januari', 'japan', 'japanes', 'jerk', 'jesu', 'jew', 'jewish', 'jim', 'jimbo', 'jimmi', 'job', 'joe', 'john', 'join', 'joke', 'jone', 'joseph', 'journal', 'journalist', 'judg', 'judgement', 'judgment', 'juli', 'jump', 'jun', 'june', 'justic', 'justif', 'justifi', 'keep', 'kept', 'key', 'kick', 'kid', 'kill', 'kind', 'kinda', 'kindli', 'king', 'kingdom', 'kiss', 'knew', 'know', 'knowledg', 'known', 'korea', 'korean', 'label', 'lack', 'ladi', 'land', 'languag', 'larg', 'larger', 'largest', 'last', 'late', 'later', 'latest', 'latin', 'latter', 'laugh', 'launch', 'law', 'lawyer', 'lay', 'lazi', 'le', 'lead', 'leader', 'leagu', 'learn', 'least', 'leav', 'lectur', 'led', 'lede', 'left', 'legal', 'legend', 'legitim', 'length', 'lesson', 'let', 'letter', 'level', 'liar', 'libel', 'liber', 'liberti', 'librari', 'licens', 'lie', 'life', 'lift', 'light', 'like', 'limit', 'line', 'linguist', 'link', 'list', 'listen', 'liter', 'literatur', 'littl', 'live', 'load', 'local', 'locat', 'lock', 'log', 'logic', 'logo', 'lol', 'london', 'long', 'longer', 'loo', 'look', 'lord', 'lose', 'loser', 'loss', 'lost', 'lot', 'love', 'low', 'lower', 'luck', 'macedonia', 'macedonian', 'machin', 'mad', 'made', 'magazin', 'magic', 'mail', 'main', 'mainli', 'mainstream', 'maintain', 'major', 'make', 'male', 'man', 'manag', 'mani', 'manipul', 'manner', 'manual', 'manufactur', 'map', 'mar', 'march', 'mari', 'mark', 'market', 'marri', 'marriag', 'martin', 'mass', 'massacr', 'massiv', 'master', 'match', 'mate', 'materi', 'math', 'mathemat', 'matter', 'may', 'mayb', 'mean', 'meaning', 'meaningless', 'meant', 'meantim', 'meanwhil', 'measur', 'mechan', 'mediat', 'medic', 'medicin', 'medium', 'meet', 'member', 'memori', 'men', 'mental', 'mention', 'mere', 'merg', 'merger', 'merit', 'mess', 'messag', 'met', 'metal', 'method', 'michael', 'mid', 'middl', 'might', 'mike', 'mile', 'militari', 'million', 'mind', 'mine', 'minim', 'minimum', 'minist', 'minor', 'minut', 'mirror', 'misinform', 'mislead', 'misrepres', 'miss', 'mission', 'mistak', 'mistaken', 'misunderstand', 'misus', 'mix', 'mo', 'mode', 'model', 'moder', 'modern', 'modifi', 'mom', 'moment', 'money', 'monitor', 'month', 'moon', 'moral', 'moreov', 'morn', 'moron', 'mostli', 'mother', 'motherfuck', 'motiv', 'mountain', 'mouth', 'move', 'movement', 'movi', 'much', 'multipl', 'murder', 'museum', 'music', 'musician', 'muslim', 'must', 'mysteri', 'myth', 'name', 'narrow', 'nasti', 'nation', 'nationalist', 'nativ', 'natur', 'navig', 'nazi', 'near', 'nearli', 'necessari', 'necessarili', 'need', 'neg', 'neither', 'nerd', 'net', 'network', 'neutral', 'never', 'nevertheless', 'new', 'newbi', 'newcom', 'news', 'newslett', 'newspap', 'next', 'nice', 'nick', 'nicknam', 'nigger', 'night', 'nobodi', 'nomin', 'non', 'none', 'nonfre', 'nonnot', 'nonsens', 'noon', 'normal', 'north', 'northern', 'nose', 'notabl', 'note', 'noth', 'notic', 'noticeboard', 'notif', 'notifi', 'notion', 'nov', 'novel', 'novemb', 'nowher', 'npov', 'number', 'numer', 'ob', 'obama', 'object', 'oblig', 'obscur', 'observ', 'obtain', 'obviou', 'obvious', 'occas', 'occasion', 'occup', 'occupi', 'occur', 'oct', 'octob', 'odd', 'offend', 'offens', 'offer', 'offic', 'offici', 'often', 'oil', 'okay', 'old', 'older', 'omit', 'one', 'ongo', 'onlin', 'onto', 'open', 'oper', 'opinion', 'oppon', 'opportun', 'oppos', 'opposit', 'option', 'orang', 'order', 'organ', 'organis', 'orient', 'origin', 'orphan', 'otherwis', 'ought', 'outcom', 'outlin', 'outright', 'outsid', 'overal', 'overview', 'overwhelm', 'owner', 'ownership', 'pad', 'page', 'paid', 'pain', 'paint', 'pakistan', 'palestinian', 'paper', 'paragraph', 'paraphras', 'parent', 'park', 'part', 'parti', 'partial', 'particip', 'particular', 'particularli', 'partisan', 'pas', 'passag', 'past', 'patent', 'pathet', 'patienc', 'patient', 'patrol', 'pattern', 'paul', 'pay', 'peac', 'peer', 'pend', 'peni', 'peopl', 'per', 'perceiv', 'perfect', 'perfectli', 'perform', 'perhap', 'period', 'perman', 'permiss', 'permit', 'persian', 'persist', 'person', 'perspect', 'pertain', 'peter', 'petti', 'phenomenon', 'philosophi', 'phone', 'photo', 'photograph', 'phrase', 'physic', 'pic', 'pick', 'pictur', 'piec', 'pig', 'pillar', 'ping', 'piss', 'place', 'plain', 'plan', 'planet', 'plant', 'play', 'player', 'plea', 'pleasur', 'plenti', 'plot', 'plu', 'point', 'pointless', 'poland', 'polic', 'polici', 'polish', 'polit', 'politician', 'poll', 'poor', 'poorli', 'pop', 'popul', 'popular', 'porn', 'portal', 'portion', 'portray', 'posit', 'possibl', 'post', 'poster', 'potenti', 'pov', 'power', 'practic', 'prais', 'preced', 'precis', 'predict', 'prefer', 'prepar', 'presenc', 'present', 'preserv', 'presid', 'press', 'pressur', 'presum', 'pretend', 'pretti', 'prevent', 'previou', 'previous', 'price', 'prick', 'primari', 'primarili', 'prime', 'princ', 'principl', 'print', 'prior', 'prison', 'privat', 'privileg', 'pro', 'probabl', 'problem', 'problemat', 'procedur', 'proceed', 'process', 'prod', 'produc', 'product', 'profession', 'professor', 'profil', 'program', 'progress', 'prohibit', 'project', 'promin', 'promis', 'promot', 'pronounc', 'proof', 'propaganda', 'proper', 'properli', 'properti', 'propos', 'prose', 'protect', 'protest', 'proud', 'prove', 'proven', 'provid', 'provinc', 'proxi', 'psycholog', 'public', 'publish', 'pull', 'pump', 'punish', 'punk', 'puppet', 'pure', 'purpos', 'pursu', 'push', 'pussi', 'put', 'qualifi', 'qualiti', 'queen', 'queri', 'question', 'quick', 'quickli', 'quit', 'quot', 'quotat', 'race', 'racial', 'racism', 'racist', 'radic', 'radio', 'rais', 'ran', 'random', 'rang', 'rank', 'rant', 'rape', 'rare', 'rate', 'rather', 'ration', 'rational', 'reach', 'reaction', 'read', 'reader', 'readi', 'real', 'realis', 'realiti', 'realiz', 'realli', 'reason', 'recal', 'receiv', 'recent', 'recept', 'recogn', 'recognis', 'recognit', 'recommend', 'reconsid', 'record', 'recreat', 'red', 'redirect', 'reduc', 'redund', 'ref', 'refer', 'referenc', 'reflect', 'reform', 'refrain', 'refus', 'refut', 'regard', 'regardless', 'region', 'regist', 'regret', 'regular', 'regularli', 'reinsert', 'reinstat', 'reject', 'rel', 'relat', 'relationship', 'releas', 'relev', 'reli', 'reliabl', 'religi', 'religion', 'remain', 'remark', 'rememb', 'remind', 'remov', 'renam', 'render', 'repeat', 'repeatedli', 'replac', 'repli', 'report', 'repost', 'repres', 'represent', 'republ', 'republican', 'reput', 'request', 'requir', 'reread', 'research', 'reserv', 'resid', 'resist', 'resolut', 'resolv', 'resort', 'resourc', 'respect', 'respond', 'respons', 'rest', 'restor', 'restrict', 'result', 'retain', 'retard', 'retir', 'return', 'reveal', 'revers', 'revert', 'review', 'revis', 'reword', 'rewrit', 'rewritten', 'rfa', 'rfc', 'rich', 'richard', 'rid', 'ridicul', 'right', 'ring', 'rise', 'risk', 'river', 'road', 'robert', 'rock', 'role', 'roll', 'rollback', 'roman', 'room', 'root', 'round', 'rout', 'royal', 'rubbish', 'rude', 'ruin', 'rule', 'rumor', 'run', 'rush', 'russia', 'russian', 'ryan', 'sad', 'sadli', 'safe', 'said', 'saint', 'sake', 'sale', 'sampl', 'san', 'sanction', 'sandbox', 'satisfi', 'save', 'saw', 'say', 'scale', 'scan', 'scare', 'scene', 'schedul', 'scheme', 'scholar', 'scholarli', 'school', 'scienc', 'scientif', 'scientist', 'scope', 'score', 'scotland', 'scott', 'screen', 'screw', 'script', 'sea', 'search', 'season', 'second', 'secondari', 'secondli', 'secret', 'section', 'secur', 'see', 'seek', 'seem', 'seen', 'select', 'self', 'sell', 'semiprotect', 'sen', 'senat', 'send', 'sensibl', 'sensit', 'sent', 'sentenc', 'separ', 'seper', 'septemb', 'serb', 'serbia', 'serbian', 'seri', 'seriou', 'serious', 'serv', 'server', 'servic', 'set', 'settl', 'seven', 'sever', 'sex', 'sexual', 'shall', 'shame', 'shape', 'share', 'ship', 'shit', 'shock', 'shoot', 'shop', 'short', 'shortli', 'shot', 'show', 'shown', 'shut', 'sick', 'side', 'sight', 'sign', 'signatur', 'signific', 'significantli', 'silenc', 'silli', 'similar', 'similarli', 'simpl', 'simpli', 'simplifi', 'sinc', 'sincer', 'sing', 'singer', 'singl', 'sir', 'sister', 'sit', 'site', 'situat', 'six', 'size', 'skill', 'skin', 'slander', 'sleep', 'slightli', 'slow', 'small', 'smaller', 'smart', 'smith', 'socal', 'social', 'socialist', 'societi', 'sock', 'sockpuppet', 'sockpuppetri', 'softwar', 'sold', 'soldier', 'sole', 'solid', 'solut', 'solv', 'somebodi', 'somehow', 'someon', 'someth', 'sometim', 'somewhat', 'somewher', 'son', 'song', 'soon', 'sorri', 'sort', 'sound', 'sourc', 'south', 'southern', 'soviet', 'space', 'spain', 'spam', 'spanish', 'speak', 'speaker', 'speci', 'special', 'specif', 'specifi', 'specul', 'speech', 'speed', 'speedi', 'speedili', 'spell', 'spend', 'spent', 'spi', 'spin', 'spirit', 'split', 'spoken', 'sport', 'spot', 'spread', 'squar', 'stabl', 'staff', 'stage', 'stalk', 'stanc', 'stand', 'standard', 'star', 'start', 'stat', 'state', 'statement', 'station', 'statist', 'statu', 'stay', 'step', 'steve', 'stick', 'still', 'stone', 'stop', 'store', 'stori', 'straight', 'strang', 'street', 'stress', 'strict', 'strictli', 'strike', 'strong', 'strongli', 'structur', 'stub', 'stuck', 'student', 'studi', 'studio', 'stuff', 'stupid', 'style', 'stylewidth', 'subject', 'submiss', 'submit', 'subpag', 'subsect', 'subsequ', 'substanti', 'success', 'suck', 'suddenli', 'suffer', 'suffici', 'suggest', 'suicid', 'suit', 'suitabl', 'sum', 'summar', 'summari', 'summer', 'sun', 'super', 'superior', 'suppli', 'support', 'suppos', 'supposedli', 'suppress', 'suprem', 'sure', 'surpris', 'surround', 'survey', 'surviv', 'suspect', 'swear', 'switch', 'symbol', 'syntax', 'system', 'tab', 'tabl', 'tactic', 'tag', 'take', 'taken', 'talk', 'talkcontrib', 'talkpag', 'target', 'task', 'tast', 'taught', 'tax', 'tea', 'teach', 'teacher', 'team', 'technic', 'techniqu', 'technolog', 'televis', 'tell', 'templat', 'ten', 'tend', 'term', 'terminolog', 'terribl', 'territori', 'terror', 'terrorist', 'test', 'texa', 'text', 'thank', 'theme', 'theori', 'therefor', 'thing', 'think', 'third', 'thoma', 'though', 'thought', 'thousand', 'thread', 'threat', 'threaten', 'three', 'throughout', 'throw', 'thu', 'tie', 'tild', 'till', 'tim', 'time', 'timelin', 'tini', 'tip', 'tire', 'titl', 'today', 'togeth', 'told', 'toler', 'tom', 'tomorrow', 'ton', 'tone', 'toni', 'tonight', 'took', 'tool', 'top', 'topic', 'total', 'touch', 'tough', 'tour', 'toward', 'town', 'trace', 'track', 'trade', 'tradit', 'train', 'transfer', 'translat', 'trash', 'travel', 'treat', 'treatment', 'tree', 'tri', 'trial', 'tribe', 'trick', 'trip', 'trivia', 'trivial', 'troll', 'troubl', 'true', 'truli', 'trust', 'truth', 'turk', 'turkey', 'turkish', 'turn', 'tutori', 'twice', 'twist', 'two', 'type', 'typic', 'typo', 'ugli', 'ultim', 'unabl', 'unaccept', 'unbias', 'unblock', 'uncivil', 'unclear', 'unconstruct', 'understand', 'understood', 'undid', 'undo', 'undu', 'unfair', 'unfortun', 'union', 'uniqu', 'unit', 'univers', 'unknown', 'unless', 'unlik', 'unnecessari', 'unprotect', 'unreferenc', 'unrel', 'unreli', 'unsign', 'unsourc', 'unusu', 'updat', 'upload', 'upon', 'upset', 'urg', 'url', 'usa', 'usag', 'use', 'useless', 'user', 'userbox', 'usernam', 'userpag', 'usual', 'utc', 'utter', 'utterli', 'vagu', 'valid', 'valu', 'valuabl', 'van', 'vandal', 'vandalis', 'vari', 'varieti', 'variou', 'vast', 'vehicl', 'verif', 'verifi', 'version', 'verticalaligntop', 'via', 'victim', 'victori', 'video', 'view', 'viewpoint', 'villag', 'violat', 'violenc', 'virgin', 'virtual', 'visibl', 'visit', 'voic', 'volum', 'volunt', 'vote', 'wait', 'wale', 'walk', 'wall', 'wanna', 'want', 'war', 'warm', 'warn', 'warrant', 'washington', 'wasnt', 'wast', 'watch', 'watchlist', 'water', 'wave', 'way', 'weak', 'weapon', 'wear', 'weasel', 'web', 'webpag', 'websit', 'week', 'weekend', 'weight', 'weird', 'welcom', 'well', 'wellknown', 'went', 'west', 'western', 'whatev', 'whatsoev', 'whenev', 'wherea', 'whether', 'whilst', 'white', 'whoever', 'whole', 'whose', 'wide', 'width', 'wife', 'wiki', 'wikilink', 'wikimedia', 'wikipedia', 'wikipediaadministr', 'wikipediaarticl', 'wikipediafil', 'wikipediaimag', 'wikipedian', 'wikipediaquest', 'wikipediarequest', 'wikipediawikiproject', 'wikiproject', 'wild', 'william', 'win', 'wind', 'window', 'wing', 'winner', 'wise', 'wish', 'wit', 'withdraw', 'within', 'without', 'wizard', 'woman', 'wonder', 'wont', 'word', 'work', 'world', 'worldwid', 'worri', 'wors', 'worst', 'worth', 'worthi', 'worthless', 'would', 'wow', 'wpblp', 'wpnpov', 'wpor', 'wpr', 'wpv', 'wrestl', 'write', 'writer', 'written', 'wrong', 'wrote', 'wtf', 'wwe', 'ye', 'yeah', 'year', 'yep', 'yesterday', 'yet', 'york', 'young', 'youtub', 'zero']\n"
          ],
          "name": "stdout"
        }
      ]
    },
    {
      "cell_type": "code",
      "metadata": {
        "id": "zIop8jimH3FM"
      },
      "source": [
        "pickle.dump(tfidf_vect, open(\"tfidf.pickle\", \"wb\"))\n",
        "pickle.dump(features, open(\"comment_features.pickle\", \"wb\"))"
      ],
      "execution_count": 106,
      "outputs": []
    },
    {
      "cell_type": "code",
      "metadata": {
        "id": "CZMx_el_H1tE"
      },
      "source": [
        ""
      ],
      "execution_count": 106,
      "outputs": []
    },
    {
      "cell_type": "markdown",
      "metadata": {
        "id": "-zAWYmnmrvS9"
      },
      "source": [
        "# Feature Engineering\n",
        "In this section, I am trying to create features hidden in the dataset which might help us improve your model. There are 2 types of features I will look at:\n",
        "1. Indirect Features - Here I will look at count of sentences, count of words, count of punctuation e.tc to determine if there is a variation in toxic and non-toxic tweets.\n",
        "2. Direct Features - I am going to use unigrams and bigrams of vectorized words in the previous step to get toxic combination of words."
      ]
    },
    {
      "cell_type": "code",
      "metadata": {
        "id": "ueFcwQp6QtYE"
      },
      "source": [
        "# Indirect Features\r\n",
        "def indirectFeatures(data, comment_column):\r\n",
        "    data = data\r\n",
        "    comment_column = comment_column\r\n",
        "    data[\"count_sent\"] = data[comment_column].apply(lambda x: len(re.findall(\"\\n\", str(x)))+1)\r\n",
        "    data[\"count_word\"] = data[comment_column].apply(lambda x: len(str(x).split()))\r\n",
        "    data[\"count_unique_word\"] = data[comment_column].apply(lambda x: len(set(str(x).split())))\r\n",
        "    data[\"count_punct\"] = data[comment_column].apply(lambda x: len([c for c in str(x) if c in string.punctuation]))\r\n",
        "    #data[\"count_words_upper\"] = data.comment_column.apply(lambda x: len[w for w in str(x) if w.isupper()])\r\n",
        "    data[\"count_stopwords\"] = data[comment_column].apply(lambda x: len([w for w in str(x).lower().split() if w in stopwords]))\r\n",
        "    data[\"unique_perc\"] = data[\"count_unique_word\"]/data[\"count_word\"]\r\n",
        "    data['upper'] = data[comment_column].apply(lambda x: sum(letter.isupper() for letter in x)) \r\n",
        "    data['upper_perc'] = data['upper']/len(data[comment_column])\r\n",
        "    \r\n",
        "    return data\r\n",
        "\r\n",
        "dataset = indirectFeatures(dataset, \"comment_text\")"
      ],
      "execution_count": 58,
      "outputs": []
    },
    {
      "cell_type": "code",
      "metadata": {
        "colab": {
          "base_uri": "https://localhost:8080/",
          "height": 462
        },
        "id": "bv3qAL2c4x_V",
        "outputId": "ba16b0c8-3c9e-4792-a963-ba5811aa128c"
      },
      "source": [
        "dataset.head()"
      ],
      "execution_count": 59,
      "outputs": [
        {
          "output_type": "execute_result",
          "data": {
            "text/html": [
              "<div>\n",
              "<style scoped>\n",
              "    .dataframe tbody tr th:only-of-type {\n",
              "        vertical-align: middle;\n",
              "    }\n",
              "\n",
              "    .dataframe tbody tr th {\n",
              "        vertical-align: top;\n",
              "    }\n",
              "\n",
              "    .dataframe thead th {\n",
              "        text-align: right;\n",
              "    }\n",
              "</style>\n",
              "<table border=\"1\" class=\"dataframe\">\n",
              "  <thead>\n",
              "    <tr style=\"text-align: right;\">\n",
              "      <th></th>\n",
              "      <th>id</th>\n",
              "      <th>comment_text</th>\n",
              "      <th>toxic</th>\n",
              "      <th>severe_toxic</th>\n",
              "      <th>obscene</th>\n",
              "      <th>threat</th>\n",
              "      <th>insult</th>\n",
              "      <th>identity_hate</th>\n",
              "      <th>clean_comment</th>\n",
              "      <th>count_sent</th>\n",
              "      <th>count_word</th>\n",
              "      <th>count_unique_word</th>\n",
              "      <th>count_punct</th>\n",
              "      <th>count_stopwords</th>\n",
              "      <th>unique_perc</th>\n",
              "      <th>upper</th>\n",
              "      <th>upper_perc</th>\n",
              "    </tr>\n",
              "  </thead>\n",
              "  <tbody>\n",
              "    <tr>\n",
              "      <th>0</th>\n",
              "      <td>0000997932d777bf</td>\n",
              "      <td>Explanation\\nWhy the edits made under my usern...</td>\n",
              "      <td>0</td>\n",
              "      <td>0</td>\n",
              "      <td>0</td>\n",
              "      <td>0</td>\n",
              "      <td>0</td>\n",
              "      <td>0</td>\n",
              "      <td>explan edit made usernam hardcor metallica fan...</td>\n",
              "      <td>2</td>\n",
              "      <td>46</td>\n",
              "      <td>41</td>\n",
              "      <td>7</td>\n",
              "      <td>22</td>\n",
              "      <td>0.891304</td>\n",
              "      <td>17</td>\n",
              "      <td>0.000107</td>\n",
              "    </tr>\n",
              "    <tr>\n",
              "      <th>1</th>\n",
              "      <td>000103f0d9cfb60f</td>\n",
              "      <td>D'aww! He matches this background colour I am ...</td>\n",
              "      <td>0</td>\n",
              "      <td>0</td>\n",
              "      <td>0</td>\n",
              "      <td>0</td>\n",
              "      <td>0</td>\n",
              "      <td>0</td>\n",
              "      <td>daww match background colour seemingli stuck t...</td>\n",
              "      <td>1</td>\n",
              "      <td>18</td>\n",
              "      <td>18</td>\n",
              "      <td>11</td>\n",
              "      <td>4</td>\n",
              "      <td>1.000000</td>\n",
              "      <td>8</td>\n",
              "      <td>0.000050</td>\n",
              "    </tr>\n",
              "    <tr>\n",
              "      <th>2</th>\n",
              "      <td>000113f07ec002fd</td>\n",
              "      <td>Hey man, I am really not trying to edit war. i...</td>\n",
              "      <td>0</td>\n",
              "      <td>0</td>\n",
              "      <td>0</td>\n",
              "      <td>0</td>\n",
              "      <td>0</td>\n",
              "      <td>0</td>\n",
              "      <td>hey man realli tri edit war guy constantli rem...</td>\n",
              "      <td>1</td>\n",
              "      <td>47</td>\n",
              "      <td>42</td>\n",
              "      <td>5</td>\n",
              "      <td>25</td>\n",
              "      <td>0.893617</td>\n",
              "      <td>3</td>\n",
              "      <td>0.000019</td>\n",
              "    </tr>\n",
              "    <tr>\n",
              "      <th>3</th>\n",
              "      <td>0001b41b1c6bb37e</td>\n",
              "      <td>\"\\nMore\\nI cannot make any real suggestions on...</td>\n",
              "      <td>0</td>\n",
              "      <td>0</td>\n",
              "      <td>0</td>\n",
              "      <td>0</td>\n",
              "      <td>0</td>\n",
              "      <td>0</td>\n",
              "      <td>cannot make real suggest improv wonder section...</td>\n",
              "      <td>5</td>\n",
              "      <td>117</td>\n",
              "      <td>84</td>\n",
              "      <td>20</td>\n",
              "      <td>59</td>\n",
              "      <td>0.717949</td>\n",
              "      <td>10</td>\n",
              "      <td>0.000063</td>\n",
              "    </tr>\n",
              "    <tr>\n",
              "      <th>4</th>\n",
              "      <td>0001d958c54c6e35</td>\n",
              "      <td>You, sir, are my hero. Any chance you remember...</td>\n",
              "      <td>0</td>\n",
              "      <td>0</td>\n",
              "      <td>0</td>\n",
              "      <td>0</td>\n",
              "      <td>0</td>\n",
              "      <td>0</td>\n",
              "      <td>sir hero chanc rememb page</td>\n",
              "      <td>1</td>\n",
              "      <td>17</td>\n",
              "      <td>16</td>\n",
              "      <td>5</td>\n",
              "      <td>9</td>\n",
              "      <td>0.941176</td>\n",
              "      <td>2</td>\n",
              "      <td>0.000013</td>\n",
              "    </tr>\n",
              "  </tbody>\n",
              "</table>\n",
              "</div>"
            ],
            "text/plain": [
              "                 id  ... upper_perc\n",
              "0  0000997932d777bf  ...   0.000107\n",
              "1  000103f0d9cfb60f  ...   0.000050\n",
              "2  000113f07ec002fd  ...   0.000019\n",
              "3  0001b41b1c6bb37e  ...   0.000063\n",
              "4  0001d958c54c6e35  ...   0.000013\n",
              "\n",
              "[5 rows x 17 columns]"
            ]
          },
          "metadata": {
            "tags": []
          },
          "execution_count": 59
        }
      ]
    },
    {
      "cell_type": "code",
      "metadata": {
        "colab": {
          "base_uri": "https://localhost:8080/",
          "height": 971
        },
        "id": "Ovtk-W2j5NK1",
        "outputId": "051ac4d9-25ef-4aef-dca5-1ecc204fdeca"
      },
      "source": [
        "\r\n",
        "label = ['toxic', 'severe_toxic', 'obscene', 'threat', 'insult', 'identity_hate']\r\n",
        "indirect_features =  ['count_sent', 'count_word','count_unique_word', 'count_punct', 'count_stopwords', 'unique_perc']\r\n",
        "fig, axs = plt.subplots(6,6, sharex= False, sharey = False, figsize=(15,15))\r\n",
        "plt.suptitle('Histograms of different indirect features', fontsize=20)\r\n",
        "#plt.figure(figsize=(15,12))\r\n",
        "for i, label in enumerate(label):\r\n",
        "    #plt.title(label, fontsize=15)\r\n",
        "    for j, feature in enumerate(indirect_features):\r\n",
        "        \r\n",
        "        axs[i,j].hist(dataset.loc[dataset[label] == 0, feature], label=\"non toxic\")\r\n",
        "        axs[i,j].hist(dataset.loc[dataset[label] == 1, feature], label=\"Toxic\")\r\n",
        "        \r\n",
        "        \r\n",
        "plt.show()"
      ],
      "execution_count": 60,
      "outputs": [
        {
          "output_type": "display_data",
          "data": {
            "image/png": "[encoded data removed]",
            "text/plain": [
              "<Figure size 1080x1080 with 36 Axes>"
            ]
          },
          "metadata": {
            "tags": [],
            "needs_background": "light"
          }
        }
      ]
    },
    {
      "cell_type": "code",
      "metadata": {
        "id": "Y5cUHnfu5NRF",
        "colab": {
          "base_uri": "https://localhost:8080/",
          "height": 462
        },
        "outputId": "c09a0b4e-e9c5-482e-fa9c-5181ea05e9aa"
      },
      "source": [
        "dataset.head()"
      ],
      "execution_count": 61,
      "outputs": [
        {
          "output_type": "execute_result",
          "data": {
            "text/html": [
              "<div>\n",
              "<style scoped>\n",
              "    .dataframe tbody tr th:only-of-type {\n",
              "        vertical-align: middle;\n",
              "    }\n",
              "\n",
              "    .dataframe tbody tr th {\n",
              "        vertical-align: top;\n",
              "    }\n",
              "\n",
              "    .dataframe thead th {\n",
              "        text-align: right;\n",
              "    }\n",
              "</style>\n",
              "<table border=\"1\" class=\"dataframe\">\n",
              "  <thead>\n",
              "    <tr style=\"text-align: right;\">\n",
              "      <th></th>\n",
              "      <th>id</th>\n",
              "      <th>comment_text</th>\n",
              "      <th>toxic</th>\n",
              "      <th>severe_toxic</th>\n",
              "      <th>obscene</th>\n",
              "      <th>threat</th>\n",
              "      <th>insult</th>\n",
              "      <th>identity_hate</th>\n",
              "      <th>clean_comment</th>\n",
              "      <th>count_sent</th>\n",
              "      <th>count_word</th>\n",
              "      <th>count_unique_word</th>\n",
              "      <th>count_punct</th>\n",
              "      <th>count_stopwords</th>\n",
              "      <th>unique_perc</th>\n",
              "      <th>upper</th>\n",
              "      <th>upper_perc</th>\n",
              "    </tr>\n",
              "  </thead>\n",
              "  <tbody>\n",
              "    <tr>\n",
              "      <th>0</th>\n",
              "      <td>0000997932d777bf</td>\n",
              "      <td>Explanation\\nWhy the edits made under my usern...</td>\n",
              "      <td>0</td>\n",
              "      <td>0</td>\n",
              "      <td>0</td>\n",
              "      <td>0</td>\n",
              "      <td>0</td>\n",
              "      <td>0</td>\n",
              "      <td>explan edit made usernam hardcor metallica fan...</td>\n",
              "      <td>2</td>\n",
              "      <td>46</td>\n",
              "      <td>41</td>\n",
              "      <td>7</td>\n",
              "      <td>22</td>\n",
              "      <td>0.891304</td>\n",
              "      <td>17</td>\n",
              "      <td>0.000107</td>\n",
              "    </tr>\n",
              "    <tr>\n",
              "      <th>1</th>\n",
              "      <td>000103f0d9cfb60f</td>\n",
              "      <td>D'aww! He matches this background colour I am ...</td>\n",
              "      <td>0</td>\n",
              "      <td>0</td>\n",
              "      <td>0</td>\n",
              "      <td>0</td>\n",
              "      <td>0</td>\n",
              "      <td>0</td>\n",
              "      <td>daww match background colour seemingli stuck t...</td>\n",
              "      <td>1</td>\n",
              "      <td>18</td>\n",
              "      <td>18</td>\n",
              "      <td>11</td>\n",
              "      <td>4</td>\n",
              "      <td>1.000000</td>\n",
              "      <td>8</td>\n",
              "      <td>0.000050</td>\n",
              "    </tr>\n",
              "    <tr>\n",
              "      <th>2</th>\n",
              "      <td>000113f07ec002fd</td>\n",
              "      <td>Hey man, I am really not trying to edit war. i...</td>\n",
              "      <td>0</td>\n",
              "      <td>0</td>\n",
              "      <td>0</td>\n",
              "      <td>0</td>\n",
              "      <td>0</td>\n",
              "      <td>0</td>\n",
              "      <td>hey man realli tri edit war guy constantli rem...</td>\n",
              "      <td>1</td>\n",
              "      <td>47</td>\n",
              "      <td>42</td>\n",
              "      <td>5</td>\n",
              "      <td>25</td>\n",
              "      <td>0.893617</td>\n",
              "      <td>3</td>\n",
              "      <td>0.000019</td>\n",
              "    </tr>\n",
              "    <tr>\n",
              "      <th>3</th>\n",
              "      <td>0001b41b1c6bb37e</td>\n",
              "      <td>\"\\nMore\\nI cannot make any real suggestions on...</td>\n",
              "      <td>0</td>\n",
              "      <td>0</td>\n",
              "      <td>0</td>\n",
              "      <td>0</td>\n",
              "      <td>0</td>\n",
              "      <td>0</td>\n",
              "      <td>cannot make real suggest improv wonder section...</td>\n",
              "      <td>5</td>\n",
              "      <td>117</td>\n",
              "      <td>84</td>\n",
              "      <td>20</td>\n",
              "      <td>59</td>\n",
              "      <td>0.717949</td>\n",
              "      <td>10</td>\n",
              "      <td>0.000063</td>\n",
              "    </tr>\n",
              "    <tr>\n",
              "      <th>4</th>\n",
              "      <td>0001d958c54c6e35</td>\n",
              "      <td>You, sir, are my hero. Any chance you remember...</td>\n",
              "      <td>0</td>\n",
              "      <td>0</td>\n",
              "      <td>0</td>\n",
              "      <td>0</td>\n",
              "      <td>0</td>\n",
              "      <td>0</td>\n",
              "      <td>sir hero chanc rememb page</td>\n",
              "      <td>1</td>\n",
              "      <td>17</td>\n",
              "      <td>16</td>\n",
              "      <td>5</td>\n",
              "      <td>9</td>\n",
              "      <td>0.941176</td>\n",
              "      <td>2</td>\n",
              "      <td>0.000013</td>\n",
              "    </tr>\n",
              "  </tbody>\n",
              "</table>\n",
              "</div>"
            ],
            "text/plain": [
              "                 id  ... upper_perc\n",
              "0  0000997932d777bf  ...   0.000107\n",
              "1  000103f0d9cfb60f  ...   0.000050\n",
              "2  000113f07ec002fd  ...   0.000019\n",
              "3  0001b41b1c6bb37e  ...   0.000063\n",
              "4  0001d958c54c6e35  ...   0.000013\n",
              "\n",
              "[5 rows x 17 columns]"
            ]
          },
          "metadata": {
            "tags": []
          },
          "execution_count": 61
        }
      ]
    },
    {
      "cell_type": "code",
      "metadata": {
        "id": "Vb51gru95NUo"
      },
      "source": [
        ""
      ],
      "execution_count": 61,
      "outputs": []
    },
    {
      "cell_type": "markdown",
      "metadata": {
        "id": "ByERI2_rrvUp"
      },
      "source": [
        "# Direct Features\n",
        "a) Unigrams - After that we use this tfv to transform the comment_text column.. I’m using clean_comment as at this moment. As type “U” is definitely presentative of “Unigrams”"
      ]
    },
    {
      "cell_type": "code",
      "metadata": {
        "id": "kGp9q_rn5NYM"
      },
      "source": [
        "train_unigrams = tfidf_vect.transform(dataset['clean_comment'].astype('U'))\r\n",
        "#print(train_unigrams)\r\n",
        "#test_unigrams = tfv.transform(toxic_test[“clean_comment”].astype(‘U’))"
      ],
      "execution_count": 62,
      "outputs": []
    },
    {
      "cell_type": "code",
      "metadata": {
        "id": "313B4hR2juCk"
      },
      "source": [
        "#Get the top 25 features with top TF-IDF Values in a row\r\n",
        "def top_tfidf_feats(row, features, top_n=25):\r\n",
        "    topn_ids = np.argsort(row)[::-1][:top_n]\r\n",
        "    top_feats = [(features[i], row[i]) for i in topn_ids]\r\n",
        "    df = pd.DataFrame(top_feats)\r\n",
        "    print(df)\r\n",
        "    df.columns = ['feature','tfidf']\r\n",
        "    return df"
      ],
      "execution_count": 63,
      "outputs": []
    },
    {
      "cell_type": "code",
      "metadata": {
        "colab": {
          "base_uri": "https://localhost:8080/",
          "height": 114
        },
        "id": "PCcpHfZwoUcw",
        "outputId": "dbf2a71a-d72e-4e07-dddc-953d1705dd80"
      },
      "source": [
        "top_tfidf_feats(train_unigrams, features)"
      ],
      "execution_count": 64,
      "outputs": [
        {
          "output_type": "stream",
          "text": [
            "      0                                                  1\n",
            "0  abil    (0, 2515)\\t0.29240106095792967\\n  (0, 2405)\\...\n"
          ],
          "name": "stdout"
        },
        {
          "output_type": "execute_result",
          "data": {
            "text/html": [
              "<div>\n",
              "<style scoped>\n",
              "    .dataframe tbody tr th:only-of-type {\n",
              "        vertical-align: middle;\n",
              "    }\n",
              "\n",
              "    .dataframe tbody tr th {\n",
              "        vertical-align: top;\n",
              "    }\n",
              "\n",
              "    .dataframe thead th {\n",
              "        text-align: right;\n",
              "    }\n",
              "</style>\n",
              "<table border=\"1\" class=\"dataframe\">\n",
              "  <thead>\n",
              "    <tr style=\"text-align: right;\">\n",
              "      <th></th>\n",
              "      <th>feature</th>\n",
              "      <th>tfidf</th>\n",
              "    </tr>\n",
              "  </thead>\n",
              "  <tbody>\n",
              "    <tr>\n",
              "      <th>0</th>\n",
              "      <td>abil</td>\n",
              "      <td>(0, 2515)\\t0.29240106095792967\\n  (0, 2405)\\...</td>\n",
              "    </tr>\n",
              "  </tbody>\n",
              "</table>\n",
              "</div>"
            ],
            "text/plain": [
              "  feature                                              tfidf\n",
              "0    abil    (0, 2515)\\t0.29240106095792967\\n  (0, 2405)\\..."
            ]
          },
          "metadata": {
            "tags": []
          },
          "execution_count": 64
        }
      ]
    },
    {
      "cell_type": "code",
      "metadata": {
        "id": "Vh2cASynjuLC"
      },
      "source": [
        "#Get the top 25 features with top TF-IDF Values in a row in a specific document\\\r\n",
        "def top_feats_in_doc(Xtr,features,row_id,top_n=25):\r\n",
        "    row = np.squeeze(Xtr[row_id].toarray())\r\n",
        "    return top_tfidf_feats(row, features, top_n)"
      ],
      "execution_count": 65,
      "outputs": []
    },
    {
      "cell_type": "code",
      "metadata": {
        "colab": {
          "base_uri": "https://localhost:8080/",
          "height": 1000
        },
        "id": "FrQp-kh3ogzA",
        "outputId": "53ba3482-89e9-476c-b98e-9ddeb1701854"
      },
      "source": [
        "top_feats_in_doc(train_unigrams, features, 10)"
      ],
      "execution_count": 66,
      "outputs": [
        {
          "output_type": "stream",
          "text": [
            "            0         1\n",
            "0    rational  0.404339\n",
            "1        fair  0.392282\n",
            "2        imag  0.302792\n",
            "3     specifi  0.251163\n",
            "4         use  0.248020\n",
            "5      explan  0.225672\n",
            "6    descript  0.224201\n",
            "7      upload  0.214947\n",
            "8        page  0.162984\n",
            "9   constitut  0.146439\n",
            "10    consist  0.144302\n",
            "11      locat  0.143329\n",
            "12      click  0.140519\n",
            "13     medium  0.131301\n",
            "14    templat  0.120451\n",
            "15      addit  0.119909\n",
            "16     specif  0.119816\n",
            "17       edit  0.116226\n",
            "18       must  0.113797\n",
            "19      check  0.108981\n",
            "20      notic  0.107123\n",
            "21      write  0.105834\n",
            "22     consid  0.101675\n",
            "23     includ  0.099778\n",
            "24  contribut  0.099415\n"
          ],
          "name": "stdout"
        },
        {
          "output_type": "execute_result",
          "data": {
            "text/html": [
              "<div>\n",
              "<style scoped>\n",
              "    .dataframe tbody tr th:only-of-type {\n",
              "        vertical-align: middle;\n",
              "    }\n",
              "\n",
              "    .dataframe tbody tr th {\n",
              "        vertical-align: top;\n",
              "    }\n",
              "\n",
              "    .dataframe thead th {\n",
              "        text-align: right;\n",
              "    }\n",
              "</style>\n",
              "<table border=\"1\" class=\"dataframe\">\n",
              "  <thead>\n",
              "    <tr style=\"text-align: right;\">\n",
              "      <th></th>\n",
              "      <th>feature</th>\n",
              "      <th>tfidf</th>\n",
              "    </tr>\n",
              "  </thead>\n",
              "  <tbody>\n",
              "    <tr>\n",
              "      <th>0</th>\n",
              "      <td>rational</td>\n",
              "      <td>0.404339</td>\n",
              "    </tr>\n",
              "    <tr>\n",
              "      <th>1</th>\n",
              "      <td>fair</td>\n",
              "      <td>0.392282</td>\n",
              "    </tr>\n",
              "    <tr>\n",
              "      <th>2</th>\n",
              "      <td>imag</td>\n",
              "      <td>0.302792</td>\n",
              "    </tr>\n",
              "    <tr>\n",
              "      <th>3</th>\n",
              "      <td>specifi</td>\n",
              "      <td>0.251163</td>\n",
              "    </tr>\n",
              "    <tr>\n",
              "      <th>4</th>\n",
              "      <td>use</td>\n",
              "      <td>0.248020</td>\n",
              "    </tr>\n",
              "    <tr>\n",
              "      <th>5</th>\n",
              "      <td>explan</td>\n",
              "      <td>0.225672</td>\n",
              "    </tr>\n",
              "    <tr>\n",
              "      <th>6</th>\n",
              "      <td>descript</td>\n",
              "      <td>0.224201</td>\n",
              "    </tr>\n",
              "    <tr>\n",
              "      <th>7</th>\n",
              "      <td>upload</td>\n",
              "      <td>0.214947</td>\n",
              "    </tr>\n",
              "    <tr>\n",
              "      <th>8</th>\n",
              "      <td>page</td>\n",
              "      <td>0.162984</td>\n",
              "    </tr>\n",
              "    <tr>\n",
              "      <th>9</th>\n",
              "      <td>constitut</td>\n",
              "      <td>0.146439</td>\n",
              "    </tr>\n",
              "    <tr>\n",
              "      <th>10</th>\n",
              "      <td>consist</td>\n",
              "      <td>0.144302</td>\n",
              "    </tr>\n",
              "    <tr>\n",
              "      <th>11</th>\n",
              "      <td>locat</td>\n",
              "      <td>0.143329</td>\n",
              "    </tr>\n",
              "    <tr>\n",
              "      <th>12</th>\n",
              "      <td>click</td>\n",
              "      <td>0.140519</td>\n",
              "    </tr>\n",
              "    <tr>\n",
              "      <th>13</th>\n",
              "      <td>medium</td>\n",
              "      <td>0.131301</td>\n",
              "    </tr>\n",
              "    <tr>\n",
              "      <th>14</th>\n",
              "      <td>templat</td>\n",
              "      <td>0.120451</td>\n",
              "    </tr>\n",
              "    <tr>\n",
              "      <th>15</th>\n",
              "      <td>addit</td>\n",
              "      <td>0.119909</td>\n",
              "    </tr>\n",
              "    <tr>\n",
              "      <th>16</th>\n",
              "      <td>specif</td>\n",
              "      <td>0.119816</td>\n",
              "    </tr>\n",
              "    <tr>\n",
              "      <th>17</th>\n",
              "      <td>edit</td>\n",
              "      <td>0.116226</td>\n",
              "    </tr>\n",
              "    <tr>\n",
              "      <th>18</th>\n",
              "      <td>must</td>\n",
              "      <td>0.113797</td>\n",
              "    </tr>\n",
              "    <tr>\n",
              "      <th>19</th>\n",
              "      <td>check</td>\n",
              "      <td>0.108981</td>\n",
              "    </tr>\n",
              "    <tr>\n",
              "      <th>20</th>\n",
              "      <td>notic</td>\n",
              "      <td>0.107123</td>\n",
              "    </tr>\n",
              "    <tr>\n",
              "      <th>21</th>\n",
              "      <td>write</td>\n",
              "      <td>0.105834</td>\n",
              "    </tr>\n",
              "    <tr>\n",
              "      <th>22</th>\n",
              "      <td>consid</td>\n",
              "      <td>0.101675</td>\n",
              "    </tr>\n",
              "    <tr>\n",
              "      <th>23</th>\n",
              "      <td>includ</td>\n",
              "      <td>0.099778</td>\n",
              "    </tr>\n",
              "    <tr>\n",
              "      <th>24</th>\n",
              "      <td>contribut</td>\n",
              "      <td>0.099415</td>\n",
              "    </tr>\n",
              "  </tbody>\n",
              "</table>\n",
              "</div>"
            ],
            "text/plain": [
              "      feature     tfidf\n",
              "0    rational  0.404339\n",
              "1        fair  0.392282\n",
              "2        imag  0.302792\n",
              "3     specifi  0.251163\n",
              "4         use  0.248020\n",
              "5      explan  0.225672\n",
              "6    descript  0.224201\n",
              "7      upload  0.214947\n",
              "8        page  0.162984\n",
              "9   constitut  0.146439\n",
              "10    consist  0.144302\n",
              "11      locat  0.143329\n",
              "12      click  0.140519\n",
              "13     medium  0.131301\n",
              "14    templat  0.120451\n",
              "15      addit  0.119909\n",
              "16     specif  0.119816\n",
              "17       edit  0.116226\n",
              "18       must  0.113797\n",
              "19      check  0.108981\n",
              "20      notic  0.107123\n",
              "21      write  0.105834\n",
              "22     consid  0.101675\n",
              "23     includ  0.099778\n",
              "24  contribut  0.099415"
            ]
          },
          "metadata": {
            "tags": []
          },
          "execution_count": 66
        }
      ]
    },
    {
      "cell_type": "code",
      "metadata": {
        "id": "E5NiEvSyjuQS"
      },
      "source": [
        "#Return the top n features that on average are most important amongst documents in rows indentified by indices in grp_ids.\r\n",
        "def top_mean_feats(Xtr,features, grp_ids, min_tfidf=0.1, top_n=25):\r\n",
        "    D = Xtr[grp_ids].toarray()\r\n",
        "    D[D < min_tfidf] = 0\r\n",
        "    tfidf_means = np.mean(D, axis=0)\r\n",
        "    return top_tfidf_feats(tfidf_means, features, top_n)"
      ],
      "execution_count": 67,
      "outputs": []
    },
    {
      "cell_type": "code",
      "metadata": {
        "id": "-eydKs98juXE"
      },
      "source": [
        "#Return a list of dfs, where each df holds top_n features and their mean tfidf value calculated across documents with the same class label\\\r\n",
        "def top_feats_by_class(Xtr, features, min_tfidf=0.1, top_n=20):\r\n",
        "    dfs = []\r\n",
        "    cols = dataset.columns\r\n",
        "    for col in cols:\r\n",
        "        ids = dataset.index[dataset[col]==1]\r\n",
        "        feats_df = top_mean_feats(Xtr, features, ids, min_tfidf=min_tfidf,top_n=top_n)\r\n",
        "        feats_df.label = label\r\n",
        "        dfs.append(feats_df)\r\n",
        "        return dfs"
      ],
      "execution_count": 68,
      "outputs": []
    },
    {
      "cell_type": "code",
      "metadata": {
        "id": "ZHiFxlbXkym7"
      },
      "source": [
        "#Return the list of top_n features and its means features for the toxic_comment\r\n",
        "label = ['toxic', 'severe_toxic', 'obscene', 'threat','insult', 'identity_hate']\r\n",
        "\r\n",
        "def top_feats_by_class(Xtr, features, min_tfidf=0.1, top_n=20):\r\n",
        "    dfs = []\r\n",
        "    cols = label\r\n",
        "    for col in cols:\r\n",
        "            ids = dataset.index[dataset[col]==1]\r\n",
        "            #print(ids)\r\n",
        "            feats_df = top_mean_feats(Xtr, features, ids, min_tfidf=min_tfidf, top_n=top_n)\r\n",
        "            feats_df.label = col\r\n",
        "            print(feats_df.label)\r\n",
        "            dfs.append(feats_df)\r\n",
        "    return dfs"
      ],
      "execution_count": 69,
      "outputs": []
    },
    {
      "cell_type": "code",
      "metadata": {
        "colab": {
          "base_uri": "https://localhost:8080/"
        },
        "id": "LftfIpBSlcBr",
        "outputId": "cef57602-2d94-449f-d5f9-2a0a536a92de"
      },
      "source": [
        "tfidf_top_n_per_class = top_feats_by_class(train_unigrams,features)"
      ],
      "execution_count": 70,
      "outputs": [
        {
          "output_type": "stream",
          "text": [
            "            0         1\n",
            "0        fuck  0.091185\n",
            "1        shit  0.026793\n",
            "2        suck  0.025293\n",
            "3         get  0.021267\n",
            "4       bitch  0.020774\n",
            "5      stupid  0.020496\n",
            "6        like  0.020387\n",
            "7       idiot  0.018184\n",
            "8        stop  0.017712\n",
            "9      asshol  0.016628\n",
            "10  wikipedia  0.016330\n",
            "11      block  0.015755\n",
            "12        gay  0.015258\n",
            "13       dick  0.014814\n",
            "14       page  0.014396\n",
            "15     faggot  0.014098\n",
            "16       cunt  0.013475\n",
            "17       edit  0.013349\n",
            "18       know  0.013291\n",
            "19       life  0.013062\n",
            "toxic\n",
            "             0         1\n",
            "0         fuck  0.270639\n",
            "1        bitch  0.062682\n",
            "2         suck  0.059647\n",
            "3         shit  0.054695\n",
            "4       asshol  0.040827\n",
            "5         dick  0.036992\n",
            "6         cunt  0.036631\n",
            "7       faggot  0.033261\n",
            "8         cock  0.027292\n",
            "9   motherfuck  0.025107\n",
            "10         get  0.022502\n",
            "11      fucker  0.020301\n",
            "12         gay  0.020116\n",
            "13      stupid  0.019793\n",
            "14         die  0.019679\n",
            "15        piec  0.019310\n",
            "16      fuckin  0.019021\n",
            "17      nigger  0.018557\n",
            "18      mother  0.018284\n",
            "19     bastard  0.016294\n",
            "severe_toxic\n",
            "            0         1\n",
            "0        fuck  0.161849\n",
            "1        shit  0.041917\n",
            "2        suck  0.039960\n",
            "3       bitch  0.036655\n",
            "4      asshol  0.028652\n",
            "5        dick  0.024449\n",
            "6        cunt  0.023792\n",
            "7      faggot  0.022697\n",
            "8         get  0.022286\n",
            "9      stupid  0.021094\n",
            "10       like  0.018377\n",
            "11      idiot  0.016552\n",
            "12       cock  0.015489\n",
            "13       stop  0.015154\n",
            "14  wikipedia  0.015080\n",
            "15      block  0.015066\n",
            "16       life  0.013647\n",
            "17       page  0.013345\n",
            "18        hey  0.012906\n",
            "19       hell  0.012610\n",
            "obscene\n",
            "         0         1\n",
            "0      die  0.108323\n",
            "1     kill  0.108192\n",
            "2     fuck  0.099000\n",
            "3       go  0.042427\n",
            "4     shit  0.033859\n",
            "5     rape  0.032233\n",
            "6     hope  0.031660\n",
            "7    shall  0.028555\n",
            "8    bitch  0.026137\n",
            "9    death  0.025128\n",
            "10    hell  0.021128\n",
            "11     get  0.020601\n",
            "12    live  0.018023\n",
            "13    head  0.017403\n",
            "14    piec  0.017204\n",
            "15  faggot  0.017099\n",
            "16    burn  0.016893\n",
            "17    life  0.016662\n",
            "18    come  0.015895\n",
            "19   gonna  0.015792\n",
            "threat\n",
            "            0         1\n",
            "0        fuck  0.133602\n",
            "1       bitch  0.036537\n",
            "2        suck  0.034910\n",
            "3        shit  0.033753\n",
            "4       idiot  0.028192\n",
            "5      asshol  0.027890\n",
            "6      stupid  0.027255\n",
            "7      faggot  0.024454\n",
            "8         get  0.022553\n",
            "9        cunt  0.022205\n",
            "10       dick  0.020585\n",
            "11       like  0.020201\n",
            "12       stop  0.016349\n",
            "13        gay  0.016148\n",
            "14       life  0.015701\n",
            "15  wikipedia  0.015585\n",
            "16      block  0.014797\n",
            "17        hey  0.013571\n",
            "18      littl  0.013105\n",
            "19    bastard  0.012896\n",
            "insult\n",
            "           0         1\n",
            "0       fuck  0.115240\n",
            "1        gay  0.094426\n",
            "2     nigger  0.062115\n",
            "3     faggot  0.060752\n",
            "4       shit  0.035370\n",
            "5        jew  0.030978\n",
            "6      bitch  0.030627\n",
            "7   homosexu  0.023692\n",
            "8       suck  0.023042\n",
            "9       like  0.022795\n",
            "10       get  0.019541\n",
            "11      hate  0.018961\n",
            "12      nazi  0.018957\n",
            "13    stupid  0.018742\n",
            "14       fag  0.018265\n",
            "15      cunt  0.016722\n",
            "16      dick  0.015378\n",
            "17    racist  0.014966\n",
            "18       hey  0.013257\n",
            "19      cock  0.013023\n",
            "identity_hate\n"
          ],
          "name": "stdout"
        }
      ]
    },
    {
      "cell_type": "code",
      "metadata": {
        "colab": {
          "base_uri": "https://localhost:8080/",
          "height": 1000
        },
        "id": "ZZwwFf7Dkywu",
        "outputId": "b8ec3e6b-63a6-4e17-ec7e-a2d17febe00f"
      },
      "source": [
        "label = ['toxic', 'severe_toxic', 'obscene', 'threat', 'insult', 'identity_hate']\r\n",
        "\r\n",
        "plt.title('Top 20 Most Frequent Words per Toxic Label,Unigrams,TFIDF', fontsize=20)\r\n",
        "subplot = 0\r\n",
        "for label in label:\r\n",
        "    subplot+=1\r\n",
        "    # plt.figure()\r\n",
        "    sns.barplot(tfidf_top_n_per_class[subplot-1].feature.iloc[0:9],tfidf_top_n_per_class[subplot-1].tfidf.iloc[0:19])\r\n",
        "    plt.title(label, fontsize=15)\r\n",
        "    plt.xlabel('Word',fontsize=12)\r\n",
        "    plt.ylabel('TF-IDF Score', fontsize=12)\r\n",
        "    plt.show()"
      ],
      "execution_count": 71,
      "outputs": [
        {
          "output_type": "stream",
          "text": [
            "/usr/local/lib/python3.6/dist-packages/seaborn/_decorators.py:43: FutureWarning: Pass the following variables as keyword args: x, y. From version 0.12, the only valid positional argument will be `data`, and passing other arguments without an explicit keyword will result in an error or misinterpretation.\n",
            "  FutureWarning\n"
          ],
          "name": "stderr"
        },
        {
          "output_type": "display_data",
          "data": {
            "image/png": "[encoded data removed]",
            "text/plain": [
              "<Figure size 432x288 with 1 Axes>"
            ]
          },
          "metadata": {
            "tags": [],
            "needs_background": "light"
          }
        },
        {
          "output_type": "stream",
          "text": [
            "/usr/local/lib/python3.6/dist-packages/seaborn/_decorators.py:43: FutureWarning: Pass the following variables as keyword args: x, y. From version 0.12, the only valid positional argument will be `data`, and passing other arguments without an explicit keyword will result in an error or misinterpretation.\n",
            "  FutureWarning\n"
          ],
          "name": "stderr"
        },
        {
          "output_type": "display_data",
          "data": {
            "image/png": "[encoded data removed]",
            "text/plain": [
              "<Figure size 432x288 with 1 Axes>"
            ]
          },
          "metadata": {
            "tags": [],
            "needs_background": "light"
          }
        },
        {
          "output_type": "stream",
          "text": [
            "/usr/local/lib/python3.6/dist-packages/seaborn/_decorators.py:43: FutureWarning: Pass the following variables as keyword args: x, y. From version 0.12, the only valid positional argument will be `data`, and passing other arguments without an explicit keyword will result in an error or misinterpretation.\n",
            "  FutureWarning\n"
          ],
          "name": "stderr"
        },
        {
          "output_type": "display_data",
          "data": {
            "image/png": "[encoded data removed]",
            "text/plain": [
              "<Figure size 432x288 with 1 Axes>"
            ]
          },
          "metadata": {
            "tags": [],
            "needs_background": "light"
          }
        },
        {
          "output_type": "stream",
          "text": [
            "/usr/local/lib/python3.6/dist-packages/seaborn/_decorators.py:43: FutureWarning: Pass the following variables as keyword args: x, y. From version 0.12, the only valid positional argument will be `data`, and passing other arguments without an explicit keyword will result in an error or misinterpretation.\n",
            "  FutureWarning\n"
          ],
          "name": "stderr"
        },
        {
          "output_type": "display_data",
          "data": {
            "image/png": "[encoded data removed]",
            "text/plain": [
              "<Figure size 432x288 with 1 Axes>"
            ]
          },
          "metadata": {
            "tags": [],
            "needs_background": "light"
          }
        },
        {
          "output_type": "stream",
          "text": [
            "/usr/local/lib/python3.6/dist-packages/seaborn/_decorators.py:43: FutureWarning: Pass the following variables as keyword args: x, y. From version 0.12, the only valid positional argument will be `data`, and passing other arguments without an explicit keyword will result in an error or misinterpretation.\n",
            "  FutureWarning\n"
          ],
          "name": "stderr"
        },
        {
          "output_type": "display_data",
          "data": {
            "image/png": "[encoded data removed]",
            "text/plain": [
              "<Figure size 432x288 with 1 Axes>"
            ]
          },
          "metadata": {
            "tags": [],
            "needs_background": "light"
          }
        },
        {
          "output_type": "stream",
          "text": [
            "/usr/local/lib/python3.6/dist-packages/seaborn/_decorators.py:43: FutureWarning: Pass the following variables as keyword args: x, y. From version 0.12, the only valid positional argument will be `data`, and passing other arguments without an explicit keyword will result in an error or misinterpretation.\n",
            "  FutureWarning\n"
          ],
          "name": "stderr"
        },
        {
          "output_type": "display_data",
          "data": {
            "image/png": "[encoded data removed]",
            "text/plain": [
              "<Figure size 432x288 with 1 Axes>"
            ]
          },
          "metadata": {
            "tags": [],
            "needs_background": "light"
          }
        }
      ]
    },
    {
      "cell_type": "code",
      "metadata": {
        "id": "8iXRRBz9qoZp"
      },
      "source": [
        "label = ['toxic', 'severe_toxic', 'obscene', 'threat','insult', 'identity_hate']\r\n",
        "for col in range(len(label)):\r\n",
        "  toxic_list = list(tfidf_top_n_per_class[col].feature.iloc[0:9])\r\n",
        "  value = label[col]"
      ],
      "execution_count": 72,
      "outputs": []
    },
    {
      "cell_type": "code",
      "metadata": {
        "id": "5Ad6cceMqorj"
      },
      "source": [
        "toxic = []\r\n",
        "severe_toxic = []\r\n",
        "obscene = []\r\n",
        "threat = []\r\n",
        "insult = []\r\n",
        "identity_hate =[]\r\n",
        "for col in range(len(label)):\r\n",
        "  toxic_list = list(tfidf_top_n_per_class[col].feature.iloc[0:9])\r\n",
        "  value = label[col]\r\n",
        "  #print(value)\r\n",
        "  for i in range(len(dataset.clean_comment)):\r\n",
        "    #print(toxic_list)\r\n",
        "    check = any(substring in dataset.clean_comment[i]  for substring in toxic_list) \r\n",
        "    #print(check)\r\n",
        "    if check is True:\r\n",
        "      vars()[value].append(1)\r\n",
        "    else:\r\n",
        "      vars()[value].append(0)\r\n",
        "    \r\n",
        "    \r\n",
        "    "
      ],
      "execution_count": 73,
      "outputs": []
    },
    {
      "cell_type": "code",
      "metadata": {
        "colab": {
          "base_uri": "https://localhost:8080/",
          "height": 838
        },
        "id": "LUDGJMX-rH7G",
        "outputId": "b8a77760-f0cc-4780-9e25-f5b16a1ee2ef"
      },
      "source": [
        "dataset['contains_toxic_word'] = toxic \r\n",
        "dataset['contains_severe_toxic_word'] = severe_toxic\r\n",
        "dataset['contains_obscene_word'] = obscene \r\n",
        "dataset['contains_threat_word'] = threat\r\n",
        "dataset['contains_insult_word'] = insult \r\n",
        "dataset['contains_identity_hate_word'] =identity_hate \r\n",
        "dataset.head(10)"
      ],
      "execution_count": 74,
      "outputs": [
        {
          "output_type": "execute_result",
          "data": {
            "text/html": [
              "<div>\n",
              "<style scoped>\n",
              "    .dataframe tbody tr th:only-of-type {\n",
              "        vertical-align: middle;\n",
              "    }\n",
              "\n",
              "    .dataframe tbody tr th {\n",
              "        vertical-align: top;\n",
              "    }\n",
              "\n",
              "    .dataframe thead th {\n",
              "        text-align: right;\n",
              "    }\n",
              "</style>\n",
              "<table border=\"1\" class=\"dataframe\">\n",
              "  <thead>\n",
              "    <tr style=\"text-align: right;\">\n",
              "      <th></th>\n",
              "      <th>id</th>\n",
              "      <th>comment_text</th>\n",
              "      <th>toxic</th>\n",
              "      <th>severe_toxic</th>\n",
              "      <th>obscene</th>\n",
              "      <th>threat</th>\n",
              "      <th>insult</th>\n",
              "      <th>identity_hate</th>\n",
              "      <th>clean_comment</th>\n",
              "      <th>count_sent</th>\n",
              "      <th>count_word</th>\n",
              "      <th>count_unique_word</th>\n",
              "      <th>count_punct</th>\n",
              "      <th>count_stopwords</th>\n",
              "      <th>unique_perc</th>\n",
              "      <th>upper</th>\n",
              "      <th>upper_perc</th>\n",
              "      <th>contains_toxic_word</th>\n",
              "      <th>contains_severe_toxic_word</th>\n",
              "      <th>contains_obscene_word</th>\n",
              "      <th>contains_threat_word</th>\n",
              "      <th>contains_insult_word</th>\n",
              "      <th>contains_identity_hate_word</th>\n",
              "    </tr>\n",
              "  </thead>\n",
              "  <tbody>\n",
              "    <tr>\n",
              "      <th>0</th>\n",
              "      <td>0000997932d777bf</td>\n",
              "      <td>Explanation\\nWhy the edits made under my usern...</td>\n",
              "      <td>0</td>\n",
              "      <td>0</td>\n",
              "      <td>0</td>\n",
              "      <td>0</td>\n",
              "      <td>0</td>\n",
              "      <td>0</td>\n",
              "      <td>explan edit made usernam hardcor metallica fan...</td>\n",
              "      <td>2</td>\n",
              "      <td>46</td>\n",
              "      <td>41</td>\n",
              "      <td>7</td>\n",
              "      <td>22</td>\n",
              "      <td>0.891304</td>\n",
              "      <td>17</td>\n",
              "      <td>0.000107</td>\n",
              "      <td>0</td>\n",
              "      <td>0</td>\n",
              "      <td>0</td>\n",
              "      <td>0</td>\n",
              "      <td>0</td>\n",
              "      <td>0</td>\n",
              "    </tr>\n",
              "    <tr>\n",
              "      <th>1</th>\n",
              "      <td>000103f0d9cfb60f</td>\n",
              "      <td>D'aww! He matches this background colour I am ...</td>\n",
              "      <td>0</td>\n",
              "      <td>0</td>\n",
              "      <td>0</td>\n",
              "      <td>0</td>\n",
              "      <td>0</td>\n",
              "      <td>0</td>\n",
              "      <td>daww match background colour seemingli stuck t...</td>\n",
              "      <td>1</td>\n",
              "      <td>18</td>\n",
              "      <td>18</td>\n",
              "      <td>11</td>\n",
              "      <td>4</td>\n",
              "      <td>1.000000</td>\n",
              "      <td>8</td>\n",
              "      <td>0.000050</td>\n",
              "      <td>0</td>\n",
              "      <td>0</td>\n",
              "      <td>0</td>\n",
              "      <td>0</td>\n",
              "      <td>0</td>\n",
              "      <td>0</td>\n",
              "    </tr>\n",
              "    <tr>\n",
              "      <th>2</th>\n",
              "      <td>000113f07ec002fd</td>\n",
              "      <td>Hey man, I am really not trying to edit war. i...</td>\n",
              "      <td>0</td>\n",
              "      <td>0</td>\n",
              "      <td>0</td>\n",
              "      <td>0</td>\n",
              "      <td>0</td>\n",
              "      <td>0</td>\n",
              "      <td>hey man realli tri edit war guy constantli rem...</td>\n",
              "      <td>1</td>\n",
              "      <td>47</td>\n",
              "      <td>42</td>\n",
              "      <td>5</td>\n",
              "      <td>25</td>\n",
              "      <td>0.893617</td>\n",
              "      <td>3</td>\n",
              "      <td>0.000019</td>\n",
              "      <td>0</td>\n",
              "      <td>0</td>\n",
              "      <td>0</td>\n",
              "      <td>0</td>\n",
              "      <td>0</td>\n",
              "      <td>0</td>\n",
              "    </tr>\n",
              "    <tr>\n",
              "      <th>3</th>\n",
              "      <td>0001b41b1c6bb37e</td>\n",
              "      <td>\"\\nMore\\nI cannot make any real suggestions on...</td>\n",
              "      <td>0</td>\n",
              "      <td>0</td>\n",
              "      <td>0</td>\n",
              "      <td>0</td>\n",
              "      <td>0</td>\n",
              "      <td>0</td>\n",
              "      <td>cannot make real suggest improv wonder section...</td>\n",
              "      <td>5</td>\n",
              "      <td>117</td>\n",
              "      <td>84</td>\n",
              "      <td>20</td>\n",
              "      <td>59</td>\n",
              "      <td>0.717949</td>\n",
              "      <td>10</td>\n",
              "      <td>0.000063</td>\n",
              "      <td>0</td>\n",
              "      <td>0</td>\n",
              "      <td>0</td>\n",
              "      <td>1</td>\n",
              "      <td>0</td>\n",
              "      <td>0</td>\n",
              "    </tr>\n",
              "    <tr>\n",
              "      <th>4</th>\n",
              "      <td>0001d958c54c6e35</td>\n",
              "      <td>You, sir, are my hero. Any chance you remember...</td>\n",
              "      <td>0</td>\n",
              "      <td>0</td>\n",
              "      <td>0</td>\n",
              "      <td>0</td>\n",
              "      <td>0</td>\n",
              "      <td>0</td>\n",
              "      <td>sir hero chanc rememb page</td>\n",
              "      <td>1</td>\n",
              "      <td>17</td>\n",
              "      <td>16</td>\n",
              "      <td>5</td>\n",
              "      <td>9</td>\n",
              "      <td>0.941176</td>\n",
              "      <td>2</td>\n",
              "      <td>0.000013</td>\n",
              "      <td>0</td>\n",
              "      <td>0</td>\n",
              "      <td>0</td>\n",
              "      <td>0</td>\n",
              "      <td>0</td>\n",
              "      <td>0</td>\n",
              "    </tr>\n",
              "    <tr>\n",
              "      <th>5</th>\n",
              "      <td>00025465d4725e87</td>\n",
              "      <td>\"\\n\\nCongratulations from me as well, use the ...</td>\n",
              "      <td>0</td>\n",
              "      <td>0</td>\n",
              "      <td>0</td>\n",
              "      <td>0</td>\n",
              "      <td>0</td>\n",
              "      <td>0</td>\n",
              "      <td>congratul well use tool well talk</td>\n",
              "      <td>3</td>\n",
              "      <td>13</td>\n",
              "      <td>12</td>\n",
              "      <td>4</td>\n",
              "      <td>4</td>\n",
              "      <td>0.923077</td>\n",
              "      <td>1</td>\n",
              "      <td>0.000006</td>\n",
              "      <td>0</td>\n",
              "      <td>0</td>\n",
              "      <td>0</td>\n",
              "      <td>0</td>\n",
              "      <td>0</td>\n",
              "      <td>0</td>\n",
              "    </tr>\n",
              "    <tr>\n",
              "      <th>6</th>\n",
              "      <td>0002bcb3da6cb337</td>\n",
              "      <td>COCKSUCKER BEFORE YOU PISS AROUND ON MY WORK</td>\n",
              "      <td>1</td>\n",
              "      <td>1</td>\n",
              "      <td>1</td>\n",
              "      <td>0</td>\n",
              "      <td>1</td>\n",
              "      <td>0</td>\n",
              "      <td>cocksuck piss around work</td>\n",
              "      <td>1</td>\n",
              "      <td>8</td>\n",
              "      <td>8</td>\n",
              "      <td>0</td>\n",
              "      <td>4</td>\n",
              "      <td>1.000000</td>\n",
              "      <td>37</td>\n",
              "      <td>0.000232</td>\n",
              "      <td>1</td>\n",
              "      <td>1</td>\n",
              "      <td>1</td>\n",
              "      <td>0</td>\n",
              "      <td>1</td>\n",
              "      <td>1</td>\n",
              "    </tr>\n",
              "    <tr>\n",
              "      <th>7</th>\n",
              "      <td>00031b1e95af7921</td>\n",
              "      <td>Your vandalism to the Matt Shirvington article...</td>\n",
              "      <td>0</td>\n",
              "      <td>0</td>\n",
              "      <td>0</td>\n",
              "      <td>0</td>\n",
              "      <td>0</td>\n",
              "      <td>0</td>\n",
              "      <td>vandal matt shirvington articl revert plea ban</td>\n",
              "      <td>1</td>\n",
              "      <td>21</td>\n",
              "      <td>20</td>\n",
              "      <td>3</td>\n",
              "      <td>13</td>\n",
              "      <td>0.952381</td>\n",
              "      <td>4</td>\n",
              "      <td>0.000025</td>\n",
              "      <td>0</td>\n",
              "      <td>0</td>\n",
              "      <td>0</td>\n",
              "      <td>0</td>\n",
              "      <td>0</td>\n",
              "      <td>0</td>\n",
              "    </tr>\n",
              "    <tr>\n",
              "      <th>8</th>\n",
              "      <td>00037261f536c51d</td>\n",
              "      <td>Sorry if the word 'nonsense' was offensive to ...</td>\n",
              "      <td>0</td>\n",
              "      <td>0</td>\n",
              "      <td>0</td>\n",
              "      <td>0</td>\n",
              "      <td>0</td>\n",
              "      <td>0</td>\n",
              "      <td>sorri word nonsens offens anyway intend write ...</td>\n",
              "      <td>1</td>\n",
              "      <td>89</td>\n",
              "      <td>71</td>\n",
              "      <td>17</td>\n",
              "      <td>49</td>\n",
              "      <td>0.797753</td>\n",
              "      <td>7</td>\n",
              "      <td>0.000044</td>\n",
              "      <td>0</td>\n",
              "      <td>0</td>\n",
              "      <td>0</td>\n",
              "      <td>0</td>\n",
              "      <td>0</td>\n",
              "      <td>0</td>\n",
              "    </tr>\n",
              "    <tr>\n",
              "      <th>9</th>\n",
              "      <td>00040093b2687caa</td>\n",
              "      <td>alignment on this subject and which are contra...</td>\n",
              "      <td>0</td>\n",
              "      <td>0</td>\n",
              "      <td>0</td>\n",
              "      <td>0</td>\n",
              "      <td>0</td>\n",
              "      <td>0</td>\n",
              "      <td>align subject contrari dulithgow</td>\n",
              "      <td>1</td>\n",
              "      <td>12</td>\n",
              "      <td>12</td>\n",
              "      <td>0</td>\n",
              "      <td>8</td>\n",
              "      <td>1.000000</td>\n",
              "      <td>2</td>\n",
              "      <td>0.000013</td>\n",
              "      <td>0</td>\n",
              "      <td>0</td>\n",
              "      <td>0</td>\n",
              "      <td>1</td>\n",
              "      <td>0</td>\n",
              "      <td>0</td>\n",
              "    </tr>\n",
              "  </tbody>\n",
              "</table>\n",
              "</div>"
            ],
            "text/plain": [
              "                 id  ... contains_identity_hate_word\n",
              "0  0000997932d777bf  ...                           0\n",
              "1  000103f0d9cfb60f  ...                           0\n",
              "2  000113f07ec002fd  ...                           0\n",
              "3  0001b41b1c6bb37e  ...                           0\n",
              "4  0001d958c54c6e35  ...                           0\n",
              "5  00025465d4725e87  ...                           0\n",
              "6  0002bcb3da6cb337  ...                           1\n",
              "7  00031b1e95af7921  ...                           0\n",
              "8  00037261f536c51d  ...                           0\n",
              "9  00040093b2687caa  ...                           0\n",
              "\n",
              "[10 rows x 23 columns]"
            ]
          },
          "metadata": {
            "tags": []
          },
          "execution_count": 74
        }
      ]
    },
    {
      "cell_type": "code",
      "metadata": {
        "id": "Cw8Nl377rIFv"
      },
      "source": [
        ""
      ],
      "execution_count": null,
      "outputs": []
    },
    {
      "cell_type": "code",
      "metadata": {
        "id": "zaKnRjomrIWs"
      },
      "source": [
        ""
      ],
      "execution_count": null,
      "outputs": []
    },
    {
      "cell_type": "markdown",
      "metadata": {
        "id": "08a6buq3rvYq"
      },
      "source": [
        "# Preparing for Modelling "
      ]
    },
    {
      "cell_type": "markdown",
      "metadata": {
        "id": "Zmr5flRRPNK-"
      },
      "source": [
        "Before Modelling, I didn't see a relationship between indirect features and toxicity of the message therefore I will create a dataframe of only tfidt array and direct features"
      ]
    },
    {
      "cell_type": "code",
      "metadata": {
        "id": "oQX43F-qrvYh"
      },
      "source": [
        "import warnings\n",
        "warnings.filterwarnings('ignore')"
      ],
      "execution_count": 75,
      "outputs": []
    },
    {
      "cell_type": "code",
      "metadata": {
        "id": "QtMKWIJ-rvYv",
        "scrolled": true,
        "colab": {
          "base_uri": "https://localhost:8080/",
          "height": 253
        },
        "outputId": "3e0f4247-0424-456f-aa3f-aab44be9cb98"
      },
      "source": [
        "X_features = pd.concat([dataset['contains_toxic_word'],dataset['contains_severe_toxic_word'], dataset['contains_obscene_word'], dataset['contains_threat_word'], dataset['contains_insult_word'], dataset['contains_identity_hate_word'], pd.DataFrame(X_train_tfidf.toarray(), columns=features)], axis=1)\n",
        "X_features.head()"
      ],
      "execution_count": 76,
      "outputs": [
        {
          "output_type": "execute_result",
          "data": {
            "text/html": [
              "<div>\n",
              "<style scoped>\n",
              "    .dataframe tbody tr th:only-of-type {\n",
              "        vertical-align: middle;\n",
              "    }\n",
              "\n",
              "    .dataframe tbody tr th {\n",
              "        vertical-align: top;\n",
              "    }\n",
              "\n",
              "    .dataframe thead th {\n",
              "        text-align: right;\n",
              "    }\n",
              "</style>\n",
              "<table border=\"1\" class=\"dataframe\">\n",
              "  <thead>\n",
              "    <tr style=\"text-align: right;\">\n",
              "      <th></th>\n",
              "      <th>contains_toxic_word</th>\n",
              "      <th>contains_severe_toxic_word</th>\n",
              "      <th>contains_obscene_word</th>\n",
              "      <th>contains_threat_word</th>\n",
              "      <th>contains_insult_word</th>\n",
              "      <th>contains_identity_hate_word</th>\n",
              "      <th>abil</th>\n",
              "      <th>abl</th>\n",
              "      <th>absolut</th>\n",
              "      <th>absurd</th>\n",
              "      <th>abus</th>\n",
              "      <th>academ</th>\n",
              "      <th>academi</th>\n",
              "      <th>accept</th>\n",
              "      <th>access</th>\n",
              "      <th>accid</th>\n",
              "      <th>accident</th>\n",
              "      <th>accomplish</th>\n",
              "      <th>accord</th>\n",
              "      <th>accordingli</th>\n",
              "      <th>account</th>\n",
              "      <th>accur</th>\n",
              "      <th>accuraci</th>\n",
              "      <th>accus</th>\n",
              "      <th>achiev</th>\n",
              "      <th>acknowledg</th>\n",
              "      <th>across</th>\n",
              "      <th>act</th>\n",
              "      <th>action</th>\n",
              "      <th>activ</th>\n",
              "      <th>activist</th>\n",
              "      <th>actor</th>\n",
              "      <th>actual</th>\n",
              "      <th>ad</th>\n",
              "      <th>adam</th>\n",
              "      <th>add</th>\n",
              "      <th>addit</th>\n",
              "      <th>address</th>\n",
              "      <th>adequ</th>\n",
              "      <th>adher</th>\n",
              "      <th>...</th>\n",
              "      <th>without</th>\n",
              "      <th>wizard</th>\n",
              "      <th>woman</th>\n",
              "      <th>wonder</th>\n",
              "      <th>wont</th>\n",
              "      <th>word</th>\n",
              "      <th>work</th>\n",
              "      <th>world</th>\n",
              "      <th>worldwid</th>\n",
              "      <th>worri</th>\n",
              "      <th>wors</th>\n",
              "      <th>worst</th>\n",
              "      <th>worth</th>\n",
              "      <th>worthi</th>\n",
              "      <th>worthless</th>\n",
              "      <th>would</th>\n",
              "      <th>wow</th>\n",
              "      <th>wpblp</th>\n",
              "      <th>wpnpov</th>\n",
              "      <th>wpor</th>\n",
              "      <th>wpr</th>\n",
              "      <th>wpv</th>\n",
              "      <th>wrestl</th>\n",
              "      <th>write</th>\n",
              "      <th>writer</th>\n",
              "      <th>written</th>\n",
              "      <th>wrong</th>\n",
              "      <th>wrote</th>\n",
              "      <th>wtf</th>\n",
              "      <th>wwe</th>\n",
              "      <th>ye</th>\n",
              "      <th>yeah</th>\n",
              "      <th>year</th>\n",
              "      <th>yep</th>\n",
              "      <th>yesterday</th>\n",
              "      <th>yet</th>\n",
              "      <th>york</th>\n",
              "      <th>young</th>\n",
              "      <th>youtub</th>\n",
              "      <th>zero</th>\n",
              "    </tr>\n",
              "  </thead>\n",
              "  <tbody>\n",
              "    <tr>\n",
              "      <th>0</th>\n",
              "      <td>0</td>\n",
              "      <td>0</td>\n",
              "      <td>0</td>\n",
              "      <td>0</td>\n",
              "      <td>0</td>\n",
              "      <td>0</td>\n",
              "      <td>0.0</td>\n",
              "      <td>0.0</td>\n",
              "      <td>0.0</td>\n",
              "      <td>0.0</td>\n",
              "      <td>0.0</td>\n",
              "      <td>0.0</td>\n",
              "      <td>0.0</td>\n",
              "      <td>0.0</td>\n",
              "      <td>0.0</td>\n",
              "      <td>0.000000</td>\n",
              "      <td>0.0</td>\n",
              "      <td>0.0</td>\n",
              "      <td>0.0</td>\n",
              "      <td>0.0</td>\n",
              "      <td>0.0</td>\n",
              "      <td>0.0</td>\n",
              "      <td>0.0</td>\n",
              "      <td>0.0</td>\n",
              "      <td>0.0</td>\n",
              "      <td>0.0</td>\n",
              "      <td>0.0</td>\n",
              "      <td>0.0</td>\n",
              "      <td>0.0</td>\n",
              "      <td>0.0</td>\n",
              "      <td>0.0</td>\n",
              "      <td>0.0</td>\n",
              "      <td>0.000000</td>\n",
              "      <td>0.0</td>\n",
              "      <td>0.0</td>\n",
              "      <td>0.0</td>\n",
              "      <td>0.0</td>\n",
              "      <td>0.0</td>\n",
              "      <td>0.0</td>\n",
              "      <td>0.0</td>\n",
              "      <td>...</td>\n",
              "      <td>0.0</td>\n",
              "      <td>0.0</td>\n",
              "      <td>0.0</td>\n",
              "      <td>0.000000</td>\n",
              "      <td>0.0</td>\n",
              "      <td>0.0</td>\n",
              "      <td>0.0</td>\n",
              "      <td>0.0</td>\n",
              "      <td>0.0</td>\n",
              "      <td>0.0</td>\n",
              "      <td>0.0</td>\n",
              "      <td>0.0</td>\n",
              "      <td>0.0</td>\n",
              "      <td>0.0</td>\n",
              "      <td>0.0</td>\n",
              "      <td>0.0</td>\n",
              "      <td>0.0</td>\n",
              "      <td>0.0</td>\n",
              "      <td>0.0</td>\n",
              "      <td>0.0</td>\n",
              "      <td>0.0</td>\n",
              "      <td>0.0</td>\n",
              "      <td>0.0</td>\n",
              "      <td>0.0</td>\n",
              "      <td>0.0</td>\n",
              "      <td>0.0</td>\n",
              "      <td>0.0</td>\n",
              "      <td>0.0</td>\n",
              "      <td>0.0</td>\n",
              "      <td>0.0</td>\n",
              "      <td>0.0</td>\n",
              "      <td>0.0</td>\n",
              "      <td>0.0</td>\n",
              "      <td>0.0</td>\n",
              "      <td>0.0</td>\n",
              "      <td>0.0</td>\n",
              "      <td>0.292401</td>\n",
              "      <td>0.0</td>\n",
              "      <td>0.0</td>\n",
              "      <td>0.0</td>\n",
              "    </tr>\n",
              "    <tr>\n",
              "      <th>1</th>\n",
              "      <td>0</td>\n",
              "      <td>0</td>\n",
              "      <td>0</td>\n",
              "      <td>0</td>\n",
              "      <td>0</td>\n",
              "      <td>0</td>\n",
              "      <td>0.0</td>\n",
              "      <td>0.0</td>\n",
              "      <td>0.0</td>\n",
              "      <td>0.0</td>\n",
              "      <td>0.0</td>\n",
              "      <td>0.0</td>\n",
              "      <td>0.0</td>\n",
              "      <td>0.0</td>\n",
              "      <td>0.0</td>\n",
              "      <td>0.000000</td>\n",
              "      <td>0.0</td>\n",
              "      <td>0.0</td>\n",
              "      <td>0.0</td>\n",
              "      <td>0.0</td>\n",
              "      <td>0.0</td>\n",
              "      <td>0.0</td>\n",
              "      <td>0.0</td>\n",
              "      <td>0.0</td>\n",
              "      <td>0.0</td>\n",
              "      <td>0.0</td>\n",
              "      <td>0.0</td>\n",
              "      <td>0.0</td>\n",
              "      <td>0.0</td>\n",
              "      <td>0.0</td>\n",
              "      <td>0.0</td>\n",
              "      <td>0.0</td>\n",
              "      <td>0.000000</td>\n",
              "      <td>0.0</td>\n",
              "      <td>0.0</td>\n",
              "      <td>0.0</td>\n",
              "      <td>0.0</td>\n",
              "      <td>0.0</td>\n",
              "      <td>0.0</td>\n",
              "      <td>0.0</td>\n",
              "      <td>...</td>\n",
              "      <td>0.0</td>\n",
              "      <td>0.0</td>\n",
              "      <td>0.0</td>\n",
              "      <td>0.000000</td>\n",
              "      <td>0.0</td>\n",
              "      <td>0.0</td>\n",
              "      <td>0.0</td>\n",
              "      <td>0.0</td>\n",
              "      <td>0.0</td>\n",
              "      <td>0.0</td>\n",
              "      <td>0.0</td>\n",
              "      <td>0.0</td>\n",
              "      <td>0.0</td>\n",
              "      <td>0.0</td>\n",
              "      <td>0.0</td>\n",
              "      <td>0.0</td>\n",
              "      <td>0.0</td>\n",
              "      <td>0.0</td>\n",
              "      <td>0.0</td>\n",
              "      <td>0.0</td>\n",
              "      <td>0.0</td>\n",
              "      <td>0.0</td>\n",
              "      <td>0.0</td>\n",
              "      <td>0.0</td>\n",
              "      <td>0.0</td>\n",
              "      <td>0.0</td>\n",
              "      <td>0.0</td>\n",
              "      <td>0.0</td>\n",
              "      <td>0.0</td>\n",
              "      <td>0.0</td>\n",
              "      <td>0.0</td>\n",
              "      <td>0.0</td>\n",
              "      <td>0.0</td>\n",
              "      <td>0.0</td>\n",
              "      <td>0.0</td>\n",
              "      <td>0.0</td>\n",
              "      <td>0.000000</td>\n",
              "      <td>0.0</td>\n",
              "      <td>0.0</td>\n",
              "      <td>0.0</td>\n",
              "    </tr>\n",
              "    <tr>\n",
              "      <th>2</th>\n",
              "      <td>0</td>\n",
              "      <td>0</td>\n",
              "      <td>0</td>\n",
              "      <td>0</td>\n",
              "      <td>0</td>\n",
              "      <td>0</td>\n",
              "      <td>0.0</td>\n",
              "      <td>0.0</td>\n",
              "      <td>0.0</td>\n",
              "      <td>0.0</td>\n",
              "      <td>0.0</td>\n",
              "      <td>0.0</td>\n",
              "      <td>0.0</td>\n",
              "      <td>0.0</td>\n",
              "      <td>0.0</td>\n",
              "      <td>0.000000</td>\n",
              "      <td>0.0</td>\n",
              "      <td>0.0</td>\n",
              "      <td>0.0</td>\n",
              "      <td>0.0</td>\n",
              "      <td>0.0</td>\n",
              "      <td>0.0</td>\n",
              "      <td>0.0</td>\n",
              "      <td>0.0</td>\n",
              "      <td>0.0</td>\n",
              "      <td>0.0</td>\n",
              "      <td>0.0</td>\n",
              "      <td>0.0</td>\n",
              "      <td>0.0</td>\n",
              "      <td>0.0</td>\n",
              "      <td>0.0</td>\n",
              "      <td>0.0</td>\n",
              "      <td>0.203617</td>\n",
              "      <td>0.0</td>\n",
              "      <td>0.0</td>\n",
              "      <td>0.0</td>\n",
              "      <td>0.0</td>\n",
              "      <td>0.0</td>\n",
              "      <td>0.0</td>\n",
              "      <td>0.0</td>\n",
              "      <td>...</td>\n",
              "      <td>0.0</td>\n",
              "      <td>0.0</td>\n",
              "      <td>0.0</td>\n",
              "      <td>0.000000</td>\n",
              "      <td>0.0</td>\n",
              "      <td>0.0</td>\n",
              "      <td>0.0</td>\n",
              "      <td>0.0</td>\n",
              "      <td>0.0</td>\n",
              "      <td>0.0</td>\n",
              "      <td>0.0</td>\n",
              "      <td>0.0</td>\n",
              "      <td>0.0</td>\n",
              "      <td>0.0</td>\n",
              "      <td>0.0</td>\n",
              "      <td>0.0</td>\n",
              "      <td>0.0</td>\n",
              "      <td>0.0</td>\n",
              "      <td>0.0</td>\n",
              "      <td>0.0</td>\n",
              "      <td>0.0</td>\n",
              "      <td>0.0</td>\n",
              "      <td>0.0</td>\n",
              "      <td>0.0</td>\n",
              "      <td>0.0</td>\n",
              "      <td>0.0</td>\n",
              "      <td>0.0</td>\n",
              "      <td>0.0</td>\n",
              "      <td>0.0</td>\n",
              "      <td>0.0</td>\n",
              "      <td>0.0</td>\n",
              "      <td>0.0</td>\n",
              "      <td>0.0</td>\n",
              "      <td>0.0</td>\n",
              "      <td>0.0</td>\n",
              "      <td>0.0</td>\n",
              "      <td>0.000000</td>\n",
              "      <td>0.0</td>\n",
              "      <td>0.0</td>\n",
              "      <td>0.0</td>\n",
              "    </tr>\n",
              "    <tr>\n",
              "      <th>3</th>\n",
              "      <td>0</td>\n",
              "      <td>0</td>\n",
              "      <td>0</td>\n",
              "      <td>1</td>\n",
              "      <td>0</td>\n",
              "      <td>0</td>\n",
              "      <td>0.0</td>\n",
              "      <td>0.0</td>\n",
              "      <td>0.0</td>\n",
              "      <td>0.0</td>\n",
              "      <td>0.0</td>\n",
              "      <td>0.0</td>\n",
              "      <td>0.0</td>\n",
              "      <td>0.0</td>\n",
              "      <td>0.0</td>\n",
              "      <td>0.207633</td>\n",
              "      <td>0.0</td>\n",
              "      <td>0.0</td>\n",
              "      <td>0.0</td>\n",
              "      <td>0.0</td>\n",
              "      <td>0.0</td>\n",
              "      <td>0.0</td>\n",
              "      <td>0.0</td>\n",
              "      <td>0.0</td>\n",
              "      <td>0.0</td>\n",
              "      <td>0.0</td>\n",
              "      <td>0.0</td>\n",
              "      <td>0.0</td>\n",
              "      <td>0.0</td>\n",
              "      <td>0.0</td>\n",
              "      <td>0.0</td>\n",
              "      <td>0.0</td>\n",
              "      <td>0.000000</td>\n",
              "      <td>0.0</td>\n",
              "      <td>0.0</td>\n",
              "      <td>0.0</td>\n",
              "      <td>0.0</td>\n",
              "      <td>0.0</td>\n",
              "      <td>0.0</td>\n",
              "      <td>0.0</td>\n",
              "      <td>...</td>\n",
              "      <td>0.0</td>\n",
              "      <td>0.0</td>\n",
              "      <td>0.0</td>\n",
              "      <td>0.150672</td>\n",
              "      <td>0.0</td>\n",
              "      <td>0.0</td>\n",
              "      <td>0.0</td>\n",
              "      <td>0.0</td>\n",
              "      <td>0.0</td>\n",
              "      <td>0.0</td>\n",
              "      <td>0.0</td>\n",
              "      <td>0.0</td>\n",
              "      <td>0.0</td>\n",
              "      <td>0.0</td>\n",
              "      <td>0.0</td>\n",
              "      <td>0.0</td>\n",
              "      <td>0.0</td>\n",
              "      <td>0.0</td>\n",
              "      <td>0.0</td>\n",
              "      <td>0.0</td>\n",
              "      <td>0.0</td>\n",
              "      <td>0.0</td>\n",
              "      <td>0.0</td>\n",
              "      <td>0.0</td>\n",
              "      <td>0.0</td>\n",
              "      <td>0.0</td>\n",
              "      <td>0.0</td>\n",
              "      <td>0.0</td>\n",
              "      <td>0.0</td>\n",
              "      <td>0.0</td>\n",
              "      <td>0.0</td>\n",
              "      <td>0.0</td>\n",
              "      <td>0.0</td>\n",
              "      <td>0.0</td>\n",
              "      <td>0.0</td>\n",
              "      <td>0.0</td>\n",
              "      <td>0.000000</td>\n",
              "      <td>0.0</td>\n",
              "      <td>0.0</td>\n",
              "      <td>0.0</td>\n",
              "    </tr>\n",
              "    <tr>\n",
              "      <th>4</th>\n",
              "      <td>0</td>\n",
              "      <td>0</td>\n",
              "      <td>0</td>\n",
              "      <td>0</td>\n",
              "      <td>0</td>\n",
              "      <td>0</td>\n",
              "      <td>0.0</td>\n",
              "      <td>0.0</td>\n",
              "      <td>0.0</td>\n",
              "      <td>0.0</td>\n",
              "      <td>0.0</td>\n",
              "      <td>0.0</td>\n",
              "      <td>0.0</td>\n",
              "      <td>0.0</td>\n",
              "      <td>0.0</td>\n",
              "      <td>0.000000</td>\n",
              "      <td>0.0</td>\n",
              "      <td>0.0</td>\n",
              "      <td>0.0</td>\n",
              "      <td>0.0</td>\n",
              "      <td>0.0</td>\n",
              "      <td>0.0</td>\n",
              "      <td>0.0</td>\n",
              "      <td>0.0</td>\n",
              "      <td>0.0</td>\n",
              "      <td>0.0</td>\n",
              "      <td>0.0</td>\n",
              "      <td>0.0</td>\n",
              "      <td>0.0</td>\n",
              "      <td>0.0</td>\n",
              "      <td>0.0</td>\n",
              "      <td>0.0</td>\n",
              "      <td>0.000000</td>\n",
              "      <td>0.0</td>\n",
              "      <td>0.0</td>\n",
              "      <td>0.0</td>\n",
              "      <td>0.0</td>\n",
              "      <td>0.0</td>\n",
              "      <td>0.0</td>\n",
              "      <td>0.0</td>\n",
              "      <td>...</td>\n",
              "      <td>0.0</td>\n",
              "      <td>0.0</td>\n",
              "      <td>0.0</td>\n",
              "      <td>0.000000</td>\n",
              "      <td>0.0</td>\n",
              "      <td>0.0</td>\n",
              "      <td>0.0</td>\n",
              "      <td>0.0</td>\n",
              "      <td>0.0</td>\n",
              "      <td>0.0</td>\n",
              "      <td>0.0</td>\n",
              "      <td>0.0</td>\n",
              "      <td>0.0</td>\n",
              "      <td>0.0</td>\n",
              "      <td>0.0</td>\n",
              "      <td>0.0</td>\n",
              "      <td>0.0</td>\n",
              "      <td>0.0</td>\n",
              "      <td>0.0</td>\n",
              "      <td>0.0</td>\n",
              "      <td>0.0</td>\n",
              "      <td>0.0</td>\n",
              "      <td>0.0</td>\n",
              "      <td>0.0</td>\n",
              "      <td>0.0</td>\n",
              "      <td>0.0</td>\n",
              "      <td>0.0</td>\n",
              "      <td>0.0</td>\n",
              "      <td>0.0</td>\n",
              "      <td>0.0</td>\n",
              "      <td>0.0</td>\n",
              "      <td>0.0</td>\n",
              "      <td>0.0</td>\n",
              "      <td>0.0</td>\n",
              "      <td>0.0</td>\n",
              "      <td>0.0</td>\n",
              "      <td>0.000000</td>\n",
              "      <td>0.0</td>\n",
              "      <td>0.0</td>\n",
              "      <td>0.0</td>\n",
              "    </tr>\n",
              "  </tbody>\n",
              "</table>\n",
              "<p>5 rows × 2525 columns</p>\n",
              "</div>"
            ],
            "text/plain": [
              "   contains_toxic_word  contains_severe_toxic_word  ...  youtub  zero\n",
              "0                    0                           0  ...     0.0   0.0\n",
              "1                    0                           0  ...     0.0   0.0\n",
              "2                    0                           0  ...     0.0   0.0\n",
              "3                    0                           0  ...     0.0   0.0\n",
              "4                    0                           0  ...     0.0   0.0\n",
              "\n",
              "[5 rows x 2525 columns]"
            ]
          },
          "metadata": {
            "tags": []
          },
          "execution_count": 76
        }
      ]
    },
    {
      "cell_type": "code",
      "metadata": {
        "id": "_oCsj8NUrvY9"
      },
      "source": [
        "\n"
      ],
      "execution_count": 79,
      "outputs": []
    },
    {
      "cell_type": "code",
      "metadata": {
        "id": "KACc7RM1rvZP",
        "colab": {
          "base_uri": "https://localhost:8080/",
          "height": 419
        },
        "outputId": "abeaac05-e54f-4486-db73-85607ea46854"
      },
      "source": [
        "categories = list(dataset.columns[2:8])\n",
        "labels = dataset[categories]\n",
        "labels"
      ],
      "execution_count": 80,
      "outputs": [
        {
          "output_type": "execute_result",
          "data": {
            "text/html": [
              "<div>\n",
              "<style scoped>\n",
              "    .dataframe tbody tr th:only-of-type {\n",
              "        vertical-align: middle;\n",
              "    }\n",
              "\n",
              "    .dataframe tbody tr th {\n",
              "        vertical-align: top;\n",
              "    }\n",
              "\n",
              "    .dataframe thead th {\n",
              "        text-align: right;\n",
              "    }\n",
              "</style>\n",
              "<table border=\"1\" class=\"dataframe\">\n",
              "  <thead>\n",
              "    <tr style=\"text-align: right;\">\n",
              "      <th></th>\n",
              "      <th>toxic</th>\n",
              "      <th>severe_toxic</th>\n",
              "      <th>obscene</th>\n",
              "      <th>threat</th>\n",
              "      <th>insult</th>\n",
              "      <th>identity_hate</th>\n",
              "    </tr>\n",
              "  </thead>\n",
              "  <tbody>\n",
              "    <tr>\n",
              "      <th>0</th>\n",
              "      <td>0</td>\n",
              "      <td>0</td>\n",
              "      <td>0</td>\n",
              "      <td>0</td>\n",
              "      <td>0</td>\n",
              "      <td>0</td>\n",
              "    </tr>\n",
              "    <tr>\n",
              "      <th>1</th>\n",
              "      <td>0</td>\n",
              "      <td>0</td>\n",
              "      <td>0</td>\n",
              "      <td>0</td>\n",
              "      <td>0</td>\n",
              "      <td>0</td>\n",
              "    </tr>\n",
              "    <tr>\n",
              "      <th>2</th>\n",
              "      <td>0</td>\n",
              "      <td>0</td>\n",
              "      <td>0</td>\n",
              "      <td>0</td>\n",
              "      <td>0</td>\n",
              "      <td>0</td>\n",
              "    </tr>\n",
              "    <tr>\n",
              "      <th>3</th>\n",
              "      <td>0</td>\n",
              "      <td>0</td>\n",
              "      <td>0</td>\n",
              "      <td>0</td>\n",
              "      <td>0</td>\n",
              "      <td>0</td>\n",
              "    </tr>\n",
              "    <tr>\n",
              "      <th>4</th>\n",
              "      <td>0</td>\n",
              "      <td>0</td>\n",
              "      <td>0</td>\n",
              "      <td>0</td>\n",
              "      <td>0</td>\n",
              "      <td>0</td>\n",
              "    </tr>\n",
              "    <tr>\n",
              "      <th>...</th>\n",
              "      <td>...</td>\n",
              "      <td>...</td>\n",
              "      <td>...</td>\n",
              "      <td>...</td>\n",
              "      <td>...</td>\n",
              "      <td>...</td>\n",
              "    </tr>\n",
              "    <tr>\n",
              "      <th>159566</th>\n",
              "      <td>0</td>\n",
              "      <td>0</td>\n",
              "      <td>0</td>\n",
              "      <td>0</td>\n",
              "      <td>0</td>\n",
              "      <td>0</td>\n",
              "    </tr>\n",
              "    <tr>\n",
              "      <th>159567</th>\n",
              "      <td>0</td>\n",
              "      <td>0</td>\n",
              "      <td>0</td>\n",
              "      <td>0</td>\n",
              "      <td>0</td>\n",
              "      <td>0</td>\n",
              "    </tr>\n",
              "    <tr>\n",
              "      <th>159568</th>\n",
              "      <td>0</td>\n",
              "      <td>0</td>\n",
              "      <td>0</td>\n",
              "      <td>0</td>\n",
              "      <td>0</td>\n",
              "      <td>0</td>\n",
              "    </tr>\n",
              "    <tr>\n",
              "      <th>159569</th>\n",
              "      <td>0</td>\n",
              "      <td>0</td>\n",
              "      <td>0</td>\n",
              "      <td>0</td>\n",
              "      <td>0</td>\n",
              "      <td>0</td>\n",
              "    </tr>\n",
              "    <tr>\n",
              "      <th>159570</th>\n",
              "      <td>0</td>\n",
              "      <td>0</td>\n",
              "      <td>0</td>\n",
              "      <td>0</td>\n",
              "      <td>0</td>\n",
              "      <td>0</td>\n",
              "    </tr>\n",
              "  </tbody>\n",
              "</table>\n",
              "<p>159571 rows × 6 columns</p>\n",
              "</div>"
            ],
            "text/plain": [
              "        toxic  severe_toxic  obscene  threat  insult  identity_hate\n",
              "0           0             0        0       0       0              0\n",
              "1           0             0        0       0       0              0\n",
              "2           0             0        0       0       0              0\n",
              "3           0             0        0       0       0              0\n",
              "4           0             0        0       0       0              0\n",
              "...       ...           ...      ...     ...     ...            ...\n",
              "159566      0             0        0       0       0              0\n",
              "159567      0             0        0       0       0              0\n",
              "159568      0             0        0       0       0              0\n",
              "159569      0             0        0       0       0              0\n",
              "159570      0             0        0       0       0              0\n",
              "\n",
              "[159571 rows x 6 columns]"
            ]
          },
          "metadata": {
            "tags": []
          },
          "execution_count": 80
        }
      ]
    },
    {
      "cell_type": "code",
      "metadata": {
        "id": "qCe9uBHlsQiR"
      },
      "source": [
        ""
      ],
      "execution_count": 86,
      "outputs": []
    },
    {
      "cell_type": "code",
      "metadata": {
        "id": "-NnnB4KMsicD"
      },
      "source": [
        ""
      ],
      "execution_count": null,
      "outputs": []
    },
    {
      "cell_type": "code",
      "metadata": {
        "id": "c193YY8lsilW"
      },
      "source": [
        ""
      ],
      "execution_count": null,
      "outputs": []
    },
    {
      "cell_type": "code",
      "metadata": {
        "id": "Kh87Gg6ssirH"
      },
      "source": [
        ""
      ],
      "execution_count": null,
      "outputs": []
    },
    {
      "cell_type": "code",
      "metadata": {
        "id": "aa1s8o-jrvZg"
      },
      "source": [
        "from sklearn.model_selection import train_test_split\n",
        "from sklearn.metrics import precision_recall_fscore_support as score"
      ],
      "execution_count": 87,
      "outputs": []
    },
    {
      "cell_type": "code",
      "metadata": {
        "id": "e8ZGUsQGrvZq"
      },
      "source": [
        "X_train, X_test, y_train, y_test = train_test_split(X_features, labels, test_size=0.2)"
      ],
      "execution_count": 88,
      "outputs": []
    },
    {
      "cell_type": "markdown",
      "metadata": {
        "id": "Lh_J5EGsrvZ4"
      },
      "source": [
        "# Modelling.\n",
        "We are now ready to create a model using the training data and validate the accuracy of the model using the holdout test data. Since there is more than 1 label, I will try to using onevsrestClassifier.\n",
        "\n",
        "**OneVsRestClassifier** - \n",
        "This method assumes that each label is mutually exclusive. It does not consider underlying correlation between classes in the method. \n",
        " I will use the F1 score to determine the model accuracy since accuracy cannot be used in this particular problem. F1 is the  mean of precision and recall. \n"
      ]
    },
    {
      "cell_type": "code",
      "metadata": {
        "id": "eswtk_o0rvZ6"
      },
      "source": [
        "from sklearn.multiclass import OneVsRestClassifier\n",
        "from sklearn.svm import SVC\n",
        "from sklearn.metrics import f1_score\n",
        "from sklearn import metrics\n",
        "import time"
      ],
      "execution_count": 91,
      "outputs": []
    },
    {
      "cell_type": "code",
      "metadata": {
        "colab": {
          "base_uri": "https://localhost:8080/"
        },
        "id": "TFnhWd_y5Bks",
        "outputId": "edcd3a09-4751-4091-9c64-574dc8d2ff41"
      },
      "source": [
        "from sklearn.linear_model import LogisticRegression\r\n",
        "%memit\r\n",
        "start_model = time.time()\r\n",
        "lin = OneVsRestClassifier(LogisticRegression())\r\n",
        "lin_model = lin.fit(X_train, y_train)\r\n",
        "end_model = time.time()\r\n",
        "e = int(end_model - start_model)\r\n",
        "\r\n",
        "y_preds = lin.predict(X_test)\r\n",
        "#print(category)\r\n",
        "print(\"Time used to model {:02d}:{:02d}:{:02d}\". format(e//3600, (e%3600//60), e%60))\r\n",
        "print('Accuracy: {}'.format(score(y_test, y_preds)))\r\n",
        "f1_score(y_test, y_preds, average='weighted')\r\n",
        "print(\"Average F1 score for logistic regression model is {}%\".format(f1_score(y_preds, y_test, average = 'weighted')*100)) "
      ],
      "execution_count": 93,
      "outputs": [
        {
          "output_type": "stream",
          "text": [
            "peak memory: 14325.39 MiB, increment: 0.05 MiB\n",
            "Time used to model 00:03:23\n",
            "Accuracy: (array([0.88078292, 0.58252427, 0.86989619, 0.73684211, 0.77405498,\n",
            "       0.67058824]), array([0.64306593, 0.19480519, 0.73422897, 0.1443299 , 0.57388535,\n",
            "       0.2183908 ]), array([0.74338277, 0.2919708 , 0.79632563, 0.24137931, 0.65910753,\n",
            "       0.32947977]), array([3079,  308, 1712,   97, 1570,  261]))\n",
            "Average F1 score for logistic regression model is 72.11060702350215%\n"
          ],
          "name": "stdout"
        }
      ]
    },
    {
      "cell_type": "code",
      "metadata": {
        "colab": {
          "base_uri": "https://localhost:8080/"
        },
        "id": "86lmRzeGK3IW",
        "outputId": "d8500519-72ae-4df5-be21-cc6c12adf6df"
      },
      "source": [
        "from sklearn.externals import joblib \r\n",
        "  \r\n",
        "joblib.dump(lin_model, 'lintoxicmodel.pkl') \r\n",
        "  \r\n",
        "#svc_from_joblib = joblib.load('toxicmodel.pkl')  \r\n",
        "   \r\n",
        "#svc_from_joblib.predict(X_test)"
      ],
      "execution_count": 96,
      "outputs": [
        {
          "output_type": "execute_result",
          "data": {
            "text/plain": [
              "['lintoxicmodel.pkl']"
            ]
          },
          "metadata": {
            "tags": []
          },
          "execution_count": 96
        }
      ]
    },
    {
      "cell_type": "code",
      "metadata": {
        "id": "32BzAu9Arvbg",
        "scrolled": true,
        "colab": {
          "base_uri": "https://localhost:8080/"
        },
        "outputId": "dc0c8a2f-9994-43c3-c11e-59f79f281f59"
      },
      "source": [
        "\n",
        "#LinearSVC\n",
        "from sklearn.svm import LinearSVC\n",
        "\n",
        "%memit\n",
        "start_model = time.time()\n",
        "svc = OneVsRestClassifier(LinearSVC())\n",
        "svc_model = svc.fit(X_train, y_train)\n",
        "end_model = time.time()\n",
        "e = int(end_model - start_model)\n",
        "\n",
        "y_pred = svc_model.predict(X_test)\n",
        "#print('Accuracy: {}'.format(score(y_pred, y_test)))\n",
        "print(\"Time used to model {:02d}:{:02d}:{:02d}\". format(e//3600, (e%3600//60), e%60))\n",
        "#print(\"Time used to fit the model {}\".format((end_fit - start_fit)))\n",
        "print(\"Average F1 score for linear SVC model is {}%\".format(f1_score(y_pred, y_test, average = 'weighted')*100))\n"
      ],
      "execution_count": 94,
      "outputs": [
        {
          "output_type": "stream",
          "text": [
            "peak memory: 10762.94 MiB, increment: 0.00 MiB\n",
            "Time used to model 00:01:05\n",
            "Average F1 score for linear SVC model is 72.34042461770436%\n"
          ],
          "name": "stdout"
        }
      ]
    },
    {
      "cell_type": "code",
      "metadata": {
        "colab": {
          "base_uri": "https://localhost:8080/"
        },
        "id": "NNdEDSEWLHO7",
        "outputId": "c138b044-e85f-496f-d954-a81398a528b7"
      },
      "source": [
        "joblib.dump(svc, 'svctoxicmodel.pkl')"
      ],
      "execution_count": 97,
      "outputs": [
        {
          "output_type": "execute_result",
          "data": {
            "text/plain": [
              "['svctoxicmodel.pkl']"
            ]
          },
          "metadata": {
            "tags": []
          },
          "execution_count": 97
        }
      ]
    },
    {
      "cell_type": "code",
      "metadata": {
        "id": "D7nIhf0v-zY1",
        "colab": {
          "base_uri": "https://localhost:8080/"
        },
        "outputId": "52d36467-f419-4f1f-dc21-9ec48e3640fa"
      },
      "source": [
        "cm = metrics.multilabel_confusion_matrix(y_test, y_pred) \n",
        "print(cm)"
      ],
      "execution_count": null,
      "outputs": [
        {
          "output_type": "stream",
          "text": [
            "[[[28619   232]\n",
            "  [ 1196  1868]]\n",
            "\n",
            " [[31573    57]\n",
            "  [  235    50]]\n",
            "\n",
            " [[30136   132]\n",
            "  [  551  1096]]\n",
            "\n",
            " [[31798    13]\n",
            "  [   83    21]]\n",
            "\n",
            " [[30126   216]\n",
            "  [  725   848]]\n",
            "\n",
            " [[31608    26]\n",
            "  [  216    65]]]\n"
          ],
          "name": "stdout"
        }
      ]
    },
    {
      "cell_type": "markdown",
      "metadata": {
        "id": "m5Jib1mX81Eh"
      },
      "source": [
        "**Logistic Regression**\n",
        "\n"
      ]
    },
    {
      "cell_type": "code",
      "metadata": {
        "id": "QkCjqop7rvam",
        "colab": {
          "base_uri": "https://localhost:8080/"
        },
        "outputId": "015ec9da-3831-44b0-b1aa-04fd2d3323aa"
      },
      "source": [
        "from sklearn.linear_model import LogisticRegression\n",
        "import time\n",
        "%memit\n",
        "start_model = time.time()\n",
        "lin = OneVsRestClassifier(LogisticRegression(solver = 'lbfgs'))\n",
        "lin_model = lin.fit(X_train, y_train)\n",
        "y_preds = lin.predict(X_test)\n",
        "end_model = time.time()\n",
        "e = int(end_model - start_model)\n",
        "#print(category)\n",
        "print(\"Time used to model {:02d}:{:02d}:{:02d}\". format(e//3600, (e%3600//60), e%60))\n",
        "print('Accuracy: {}'.format(score(y_test, y_preds)))\n",
        "print(\"Average F1 score for logistic regression model is {}\".format(f1_score(y_pred, y_test, average = 'weighted')))\n"
      ],
      "execution_count": null,
      "outputs": [
        {
          "output_type": "stream",
          "text": [
            "peak memory: 8080.93 MiB, increment: 0.05 MiB\n",
            "Time used to model 00:01:57\n",
            "Accuracy: (array([0.89493976, 0.48554913, 0.88870837, 0.57894737, 0.78442545,\n",
            "       0.6       ]), array([0.60038797, 0.27009646, 0.64964371, 0.11956522, 0.5231159 ,\n",
            "       0.18021201]), array([0.71865325, 0.34710744, 0.75060034, 0.1981982 , 0.62765957,\n",
            "       0.27717391]), array([3093,  311, 1684,   92, 1579,  283]))\n",
            "Average F1 score for logistic regression model is 0.6967265909624233\n"
          ],
          "name": "stdout"
        }
      ]
    },
    {
      "cell_type": "code",
      "metadata": {
        "id": "ySYARS_m839p",
        "colab": {
          "base_uri": "https://localhost:8080/"
        },
        "outputId": "eb3ed7c4-77d5-4bb0-a936-42b8d7055bf6"
      },
      "source": [
        "\n",
        "cm = metrics.multilabel_confusion_matrix(y_test, y_preds)\n",
        "print(cm)"
      ],
      "execution_count": null,
      "outputs": [
        {
          "output_type": "stream",
          "text": [
            "[[[28656   195]\n",
            "  [ 1264  1800]]\n",
            "\n",
            " [[31528   102]\n",
            "  [  212    73]]\n",
            "\n",
            " [[30133   135]\n",
            "  [  587  1060]]\n",
            "\n",
            " [[31801    10]\n",
            "  [   94    10]]\n",
            "\n",
            " [[30146   196]\n",
            "  [  756   817]]\n",
            "\n",
            " [[31610    24]\n",
            "  [  218    63]]]\n"
          ],
          "name": "stdout"
        }
      ]
    },
    {
      "cell_type": "markdown",
      "metadata": {
        "id": "hiebHwJ6Q1S4"
      },
      "source": [
        "NAIVES BAYES THEOREM"
      ]
    },
    {
      "cell_type": "code",
      "metadata": {
        "colab": {
          "base_uri": "https://localhost:8080/"
        },
        "id": "CBfft62FQZSS",
        "outputId": "0afe7def-94d0-4619-bd94-2909561eee54"
      },
      "source": [
        "from sklearn.naive_bayes import MultinomialNB\n",
        "import time\n",
        "%memit\n",
        "start_model = time.time()\n",
        "naive_clf = OneVsRestClassifier(MultinomialNB(), n_jobs=-1)\n",
        "naive_model = naive_clf.fit(X_train, y_train)\n",
        "y_pred = naive_model.predict(X_test)\n",
        "end_model = time.time()\n",
        "e = int(end_model - start_model)\n",
        "print(\"Time used to model {:02d}:{:02d}:{:02d}\". format(e//3600, (e%3600//60), e%60))\n",
        "print('The Precision, Recall, F1 score and Support values of each label: {}'.format(score(y_test, y_pred)))\n",
        "print('F1 score of the model {}'.format(f1_score(y_test, y_pred, average='weighted')))\n",
        "metrics.multilabel_confusion_matrix(y_test, y_pred)"
      ],
      "execution_count": 95,
      "outputs": [
        {
          "output_type": "stream",
          "text": [
            "peak memory: 13899.98 MiB, increment: 0.00 MiB\n",
            "Time used to model 00:00:13\n",
            "The Precision, Recall, F1 score and Support values of each label: (array([0.7823479 , 0.21918941, 0.74473976, 0.39393939, 0.60203505,\n",
            "       0.14326107]), array([0.59304969, 0.86038961, 0.78563084, 0.13402062, 0.67834395,\n",
            "       0.58237548]), array([0.67467209, 0.34937376, 0.764639  , 0.2       , 0.63791554,\n",
            "       0.22995461]), array([3079,  308, 1712,   97, 1570,  261]))\n",
            "F1 score of the model 0.6510502342390122\n"
          ],
          "name": "stdout"
        },
        {
          "output_type": "execute_result",
          "data": {
            "text/plain": [
              "array([[[28328,   508],\n",
              "        [ 1253,  1826]],\n",
              "\n",
              "       [[30663,   944],\n",
              "        [   43,   265]],\n",
              "\n",
              "       [[29742,   461],\n",
              "        [  367,  1345]],\n",
              "\n",
              "       [[31798,    20],\n",
              "        [   84,    13]],\n",
              "\n",
              "       [[29641,   704],\n",
              "        [  505,  1065]],\n",
              "\n",
              "       [[30745,   909],\n",
              "        [  109,   152]]])"
            ]
          },
          "metadata": {
            "tags": []
          },
          "execution_count": 95
        }
      ]
    },
    {
      "cell_type": "code",
      "metadata": {
        "colab": {
          "base_uri": "https://localhost:8080/"
        },
        "id": "lEzb-DtpLRaC",
        "outputId": "d02e12ce-52a8-4e31-de1c-0c18f212f4b8"
      },
      "source": [
        "joblib.dump(naive_model, 'bayestoxicmodel.pkl')"
      ],
      "execution_count": 99,
      "outputs": [
        {
          "output_type": "execute_result",
          "data": {
            "text/plain": [
              "['bayestoxicmodel.pkl']"
            ]
          },
          "metadata": {
            "tags": []
          },
          "execution_count": 99
        }
      ]
    },
    {
      "cell_type": "markdown",
      "metadata": {
        "id": "33FXqNnLRq8e"
      },
      "source": [
        "SDGClassifier\n"
      ]
    },
    {
      "cell_type": "code",
      "metadata": {
        "id": "-KXHFNUnrvdn",
        "colab": {
          "base_uri": "https://localhost:8080/"
        },
        "outputId": "d09f067d-577f-4332-a72c-a6576d3c4155"
      },
      "source": [
        "from sklearn import linear_model\n",
        "import time\n",
        "%memit\n",
        "start_model = time.time()\n",
        "sgd_clf = OneVsRestClassifier(linear_model.SGDClassifier())\n",
        "sgd_model = sgd_clf.fit(X_train, y_train)\n",
        "y_pred = sgd_model.predict(X_test)\n",
        "end_model = time.time()\n",
        "e = int(end_model - start_model)\n",
        "print(\"Time used to model {:02d}:{:02d}:{:02d}\". format(e//3600, (e%3600//60), e%60))\n",
        "print('The Precision, Recall, F1 score and Support values of each label: {}'.format(score(y_test, y_pred)))\n",
        "print('F1 score of the model {}'.format(f1_score(y_test, y_pred, average='weighted')))\n",
        "metrics.multilabel_confusion_matrix(y_test, y_pred)\n",
        "\n"
      ],
      "execution_count": null,
      "outputs": [
        {
          "output_type": "stream",
          "text": [
            "peak memory: 8143.46 MiB, increment: 0.41 MiB\n",
            "Time used to model 00:00:53\n",
            "The Precision, Recall, F1 score and Support values of each label: (array([0.9284897 , 0.        , 0.8900084 , 0.        , 0.77860169,\n",
            "       0.75862069]), array([0.52473327, 0.        , 0.62945368, 0.        , 0.46548448,\n",
            "       0.07773852]), array([0.67052262, 0.        , 0.7373913 , 0.        , 0.58263971,\n",
            "       0.14102564]), array([3093,  311, 1684,   92, 1579,  283]))\n",
            "F1 score of the model 0.6071558909117406\n"
          ],
          "name": "stdout"
        },
        {
          "output_type": "execute_result",
          "data": {
            "text/plain": [
              "array([[[28697,   125],\n",
              "        [ 1470,  1623]],\n",
              "\n",
              "       [[31604,     0],\n",
              "        [  311,     0]],\n",
              "\n",
              "       [[30100,   131],\n",
              "        [  624,  1060]],\n",
              "\n",
              "       [[31823,     0],\n",
              "        [   92,     0]],\n",
              "\n",
              "       [[30127,   209],\n",
              "        [  844,   735]],\n",
              "\n",
              "       [[31625,     7],\n",
              "        [  261,    22]]])"
            ]
          },
          "metadata": {
            "tags": []
          },
          "execution_count": 41
        }
      ]
    },
    {
      "cell_type": "code",
      "metadata": {
        "id": "sgrLP1wDKGT5",
        "colab": {
          "base_uri": "https://localhost:8080/"
        },
        "outputId": "fdcd3bd6-8abc-4ca7-86da-3af29197d4e8"
      },
      "source": [
        "from sklearn.externals import joblib \n",
        "  \n",
        "joblib.dump(svc, 'toxicmodel.pkl') \n",
        "  \n",
        "svc_from_joblib = joblib.load('toxicmodel.pkl')  \n",
        "   \n",
        "svc_from_joblib.predict(X_test)"
      ],
      "execution_count": null,
      "outputs": [
        {
          "output_type": "execute_result",
          "data": {
            "text/plain": [
              "array([[0, 0, 0, 0, 0, 0],\n",
              "       [0, 0, 0, 0, 0, 0],\n",
              "       [0, 0, 0, 0, 0, 0],\n",
              "       ...,\n",
              "       [0, 0, 0, 0, 0, 0],\n",
              "       [0, 0, 0, 0, 0, 0],\n",
              "       [0, 0, 0, 0, 0, 0]])"
            ]
          },
          "metadata": {
            "tags": []
          },
          "execution_count": 43
        }
      ]
    },
    {
      "cell_type": "code",
      "metadata": {
        "id": "Y6sp15ZGY_1w",
        "colab": {
          "base_uri": "https://localhost:8080/",
          "height": 269
        },
        "outputId": "9732eaa8-5181-4d0d-bf84-61e8c8f31048"
      },
      "source": [
        "%memit\n",
        "def clean_text(text):\n",
        "   \n",
        "   \n",
        "    \n",
        "    text = \"\".join([word.lower() for word in text if word not in string.punctuation])\n",
        "    \n",
        "    tokens = re.split('\\W+', text)\n",
        "    #words = [wn.lemmatize(word, 'v') for word in tokens]\n",
        "    text = [ps.stem(word) for word in tokens if word not in stopwords]\n",
        "    text = [wn.lemmatize(word) for word in text] \n",
        "    \n",
        "    text = \" \".join(text)\n",
        "    text = \" \".join([word for word in text.split() if len(word)>2])\n",
        "    return text\n",
        "def vectorizing(text):\n",
        "\tnew_question = text\n",
        "\ttfidf_vectorizer = pickle.load(open(\"tfidf.pickle\", \"rb\"))\n",
        "\tvectorized_question = tfidf_vectorizer.transform([new_question])\n",
        "\treturn vectorized_question\n",
        "def create_features(cleaned_text, vectorized_text):\n",
        "\ttext = cleaned_text\n",
        "\tvectorized_text = vectorized_text\n",
        "\tlabel = ['toxic', 'severe_toxic', 'obscene', 'threat','insult', 'identity_hate']\n",
        "\ttoxic = ['fuck', 'shit', 'suck', 'stupid', 'bitch', 'idiot', 'asshol', 'gay', 'dick']\n",
        "\tsevere_toxic = ['fuck', 'bitch', 'suck', 'shit', 'asshol', 'dick', 'cunt', 'faggot', 'cock']\n",
        "\tobscene =['fuck', 'shit', 'suck', 'bitch', 'asshol', 'dick', 'cunt', 'faggot', 'stupid']\n",
        "\tthreat =['kill', 'die', 'fuck', 'shit', 'rape', 'hope', 'bitch', 'death', 'hell']\n",
        "\tinsult = ['fuck', 'bitch', 'suck', 'shit', 'idiot', 'asshol', 'stupid', 'faggot', 'cunt']\n",
        "\tidentity_hate = ['fuck', 'gay', 'nigger', 'faggot', 'shit', 'jew', 'bitch', 'homosexu', 'suck']\n",
        "\tcontains_toxic = []\n",
        "\tcontains_severe_toxic = []\n",
        "\tcontains_obscene = []\n",
        "\tcontains_threat = []\n",
        "\tcontains_insult = []\n",
        "\tcontains_identity_hate =[]\n",
        "\tfor col in range(len(label)):\n",
        "\t\ttoxic_list = vars()[label[col]]\n",
        "\t\t#st.write(toxic_list)\n",
        "\t\tvalue = \"contains_\"+label[col]\n",
        "\t\t\n",
        "\t\tcheck = any(substring in text for substring in toxic_list) \n",
        "\t\tif check is True:\n",
        "\t\t\tvars()[value].append(1)\n",
        "\t\t\t#st.write(\"True\")\n",
        "\t\telse:\n",
        "\t\t\tvars()[value].append(0)\n",
        "\t\t\t#st.write(\"False\")\n",
        "\tinp = list([contains_toxic[0],contains_severe_toxic[0],contains_obscene[0], contains_threat[0], contains_insult[0], contains_identity_hate[0]])\n",
        "\tdf = pd.DataFrame([inp], columns=['contains_toxic_word', 'contains_severe_toxic_word', 'contains_obscene_word', 'contains_threat_word', 'contains_insult_word', 'contains_identity_hate_word'])\n",
        "\tX = pd.concat([df, pd.DataFrame(vectorized_text.toarray())], axis=1)\n",
        "\treturn X\n",
        "\treturn X\n",
        "def predict(features, model = 'svc'):\n",
        "  end_model = time.time()\n",
        "  if model == 'log':\n",
        "    svc_from_joblib = joblib.load('lintoxicmodel.pkl') \n",
        "  if model == 'svc':\n",
        "    svc_from_joblib = joblib.load('svctoxicmodel.pkl') \n",
        "  if model == 'naive':\n",
        "    svc_from_joblib = joblib.load('bayestoxicmodel.pkl') \n",
        "  start_model = time.time()\n",
        "  y = svc_from_joblib.predict(features)\n",
        "  \n",
        "  e = int(end_model - start_model)\n",
        "  return y, e\n",
        "message = 'You are a stupid person'\n",
        "cleaned_text = clean_text(message)\n",
        "vectorized_text = vectorizing(cleaned_text)\n",
        "features = create_features(cleaned_text, vectorized_text)\n",
        "prediction, e = predict(features, 'log')\n",
        "print(\"Time used to predict {:02d}:{:02d}:{:02d}\". format(e//3600, (e%3600//60), e%60))\n",
        "df = pd.DataFrame({\n",
        "\t\t\t\"contains_toxic\": prediction[:, 0],\n",
        "\t\t\t\"contains_severe_toxic\": prediction[:, 1],\n",
        "\t\t\t\"contains_obscene\": prediction[:, 2],\n",
        "\t\t\t\"contains_threat\": prediction[:, 3],\n",
        "\t\t\t\"contains_insult\":prediction[:, 4],\n",
        "\t\t\t\"contains_identity_hate\": prediction[:, 5]\n",
        "\t\t\t}, index=['Comment'])\n",
        "df.T"
      ],
      "execution_count": 115,
      "outputs": [
        {
          "output_type": "stream",
          "text": [
            "peak memory: 10216.88 MiB, increment: 0.00 MiB\n",
            "Time used to predict 00:00:00\n"
          ],
          "name": "stdout"
        },
        {
          "output_type": "execute_result",
          "data": {
            "text/html": [
              "<div>\n",
              "<style scoped>\n",
              "    .dataframe tbody tr th:only-of-type {\n",
              "        vertical-align: middle;\n",
              "    }\n",
              "\n",
              "    .dataframe tbody tr th {\n",
              "        vertical-align: top;\n",
              "    }\n",
              "\n",
              "    .dataframe thead th {\n",
              "        text-align: right;\n",
              "    }\n",
              "</style>\n",
              "<table border=\"1\" class=\"dataframe\">\n",
              "  <thead>\n",
              "    <tr style=\"text-align: right;\">\n",
              "      <th></th>\n",
              "      <th>Comment</th>\n",
              "    </tr>\n",
              "  </thead>\n",
              "  <tbody>\n",
              "    <tr>\n",
              "      <th>contains_toxic</th>\n",
              "      <td>1</td>\n",
              "    </tr>\n",
              "    <tr>\n",
              "      <th>contains_severe_toxic</th>\n",
              "      <td>0</td>\n",
              "    </tr>\n",
              "    <tr>\n",
              "      <th>contains_obscene</th>\n",
              "      <td>0</td>\n",
              "    </tr>\n",
              "    <tr>\n",
              "      <th>contains_threat</th>\n",
              "      <td>0</td>\n",
              "    </tr>\n",
              "    <tr>\n",
              "      <th>contains_insult</th>\n",
              "      <td>1</td>\n",
              "    </tr>\n",
              "    <tr>\n",
              "      <th>contains_identity_hate</th>\n",
              "      <td>0</td>\n",
              "    </tr>\n",
              "  </tbody>\n",
              "</table>\n",
              "</div>"
            ],
            "text/plain": [
              "                        Comment\n",
              "contains_toxic                1\n",
              "contains_severe_toxic         0\n",
              "contains_obscene              0\n",
              "contains_threat               0\n",
              "contains_insult               1\n",
              "contains_identity_hate        0"
            ]
          },
          "metadata": {
            "tags": []
          },
          "execution_count": 115
        }
      ]
    },
    {
      "cell_type": "code",
      "metadata": {
        "id": "eeCfKbILQIlP"
      },
      "source": [
        ""
      ],
      "execution_count": null,
      "outputs": []
    }
  ]
}